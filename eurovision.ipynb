{
 "cells": [
  {
   "cell_type": "code",
   "execution_count": 1,
   "metadata": {
    "collapsed": false
   },
   "outputs": [],
   "source": [
    "%matplotlib inline\n",
    "import pandas as pd\n",
    "import platform\n",
    "import numpy as np\n",
    "import matplotlib.pyplot as plt\n",
    "import matplotlib\n",
    "import math\n",
    "input_file = \"Eurovision before 2016.csv\"\n",
    "test_file = \"eurovision 2016.csv\"\n",
    "test_file2 = \"eurovision 2016-2.csv\"\n",
    "test_file_final = \"eurovision 2016 final.csv\"\n",
    "points_per_country = 1+2+3+4+5+6+7+8+10+12\n",
    "from sklearn.ensemble import GradientBoostingRegressor\n",
    "from sklearn import svm\n",
    "from datetime import datetime\n",
    "from sklearn.grid_search import GridSearchCV"
   ]
  },
  {
   "cell_type": "code",
   "execution_count": 2,
   "metadata": {
    "collapsed": false,
    "scrolled": true
   },
   "outputs": [],
   "source": [
    "data = pd.read_csv(input_file)\n",
    "data.fillna(0, inplace=True)\n",
    "\n",
    "data['Normalized Score'] = data['Score']/(data['Countries Voting'].apply(float))\n",
    "data['Normalized Score 2'] = data['Normalized Score'] - points_per_country/(data['Countries competing'].apply(float))\n",
    "data['Country'] = data['Country'].apply(str.strip)\n",
    "data['Normalized YT count'] = 0.0\n",
    "data.loc[data['Videocounts']!=0,'Normalized YT count'] = data.loc[data['Videocounts']!=0,'Videocounts'].apply(float)/data.loc[data['Videocounts']!=0,'Total Videocounts for round'] - 1.0/data[data['Videocounts']!=0]['Countries competing']"
   ]
  },
  {
   "cell_type": "code",
   "execution_count": 3,
   "metadata": {
    "collapsed": false
   },
   "outputs": [
    {
     "name": "stdout",
     "output_type": "stream",
     "text": [
      "3.55702522453e-17\n",
      "0.000629574694545\n"
     ]
    }
   ],
   "source": [
    "print data['Normalized Score 2'].mean()\n",
    "print data['Normalized YT count'].mean()"
   ]
  },
  {
   "cell_type": "code",
   "execution_count": 10,
   "metadata": {
    "collapsed": false
   },
   "outputs": [],
   "source": [
    "test_data = pd.read_csv(test_file_final)\n",
    "test_data.fillna(0,inplace=True)\n",
    "\n",
    "test_data['Normalized Score'] = test_data['Score']/(test_data['Countries Voting'].apply(float))\n",
    "test_data['Normalized Score 2'] = test_data['Normalized Score'] - points_per_country/(test_data['Countries competing'].apply(float))\n",
    "test_data['Country'] = test_data['Country'].apply(str.strip)\n",
    "test_data['Normalized YT count'] = 0.0\n",
    "test_data.loc[test_data['Videocounts']!=0,'Normalized YT count'] = test_data.loc[test_data['Videocounts']!=0,'Videocounts'].apply(float)/test_data.loc[test_data['Videocounts']!=0,'Total Videocounts for round'] - 1.0/test_data[test_data['Videocounts']!=0]['Countries competing']"
   ]
  },
  {
   "cell_type": "code",
   "execution_count": 12,
   "metadata": {
    "collapsed": false
   },
   "outputs": [],
   "source": [
    "test_data_sf1 = pd.read_csv(test_file)\n",
    "test_data_sf1.fillna(0,inplace=True)\n",
    "\n",
    "test_data_sf1['Normalized Score'] = test_data_sf1['Score']/(test_data_sf1['Countries Voting'].apply(float))\n",
    "test_data_sf1['Normalized Score 2'] = test_data_sf1['Normalized Score'] - points_per_country/(test_data_sf1['Countries competing'].apply(float))\n",
    "test_data_sf1['Country'] = test_data_sf1['Country'].apply(str.strip)\n",
    "test_data_sf1['Normalized YT count'] = 0.0\n",
    "test_data_sf1.loc[test_data_sf1['Videocounts']!=0,'Normalized YT count'] = test_data_sf1.loc[test_data['Videocounts']!=0,'Videocounts'].apply(float)/test_data_sf1.loc[test_data_sf1['Videocounts']!=0,'Total Videocounts for round'] - 1.0/test_data_sf1[test_data_sf1['Videocounts']!=0]['Countries competing']"
   ]
  },
  {
   "cell_type": "code",
   "execution_count": 8,
   "metadata": {
    "collapsed": false
   },
   "outputs": [
    {
     "name": "stdout",
     "output_type": "stream",
     "text": [
      "1 77.6676816387 67.4864476339 38\n",
      "2 56.7140519878 51.4696353582 38\n",
      "3 60.9607013851 66.8766377971 38\n",
      "4 83.924069439 82.4276865249 38\n",
      "5 73.45190271 78.5313322365 38\n",
      "6 100.628932907 87.002618694 38\n",
      "7 89.9230032047 68.1229868683 38\n",
      "8 76.9251544531 62.6377989887 38\n",
      "9 87.623888411 76.2148549575 38\n",
      "10 111.64716323 100.188708081 38\n",
      "11 84.2888048273 91.597494028 38\n",
      "12 97.614188471 83.709715167 38\n",
      "13 122.9012992 86.7242009406 38\n",
      "14 109.560842773 88.3168313521 38\n",
      "15 91.1632796677 73.2862834158 38\n",
      "16 86.3021854983 77.5153130734 37\n",
      "17 108.373549944 84.7297466745 34\n",
      "18 138.079102582 77.4008443563 30\n",
      "19 101.604251341 78.6293744313 27\n",
      "20 144.378027416 107.399188905 22\n",
      "21 111.203761259 68.2074318021 22\n",
      "22 142.341870313 84.3712580155 22\n",
      "23 116.013768715 77.326802643 21\n",
      "24 115.621402669 84.5322815779 18\n",
      "25 113.482885445 84.6477801137 12\n",
      "26 68.6994063661 69.9553815682 6\n",
      "[77.66768163865713, 134.38173362649255, 195.34243501155953, 279.2665044505715, 352.7184071606051, 453.3473400679211, 543.2703432726452, 620.1954977257249, 707.8193861367704, 819.4665493671488, 903.7553541944827, 1001.3695426655165, 1124.2708418656766, 1233.8316846389753, 1324.9949643066284, 1411.2971498049742, 1519.6706997488398, 1657.7498023303704, 1759.3540536715445, 1903.7320810870526, 2014.935842345786, 2157.2777126591886, 2273.291481374114, 2388.912884043157, 2502.3957694884457, 2571.095175854519]\n",
      "1.66666666667\n"
     ]
    }
   ],
   "source": [
    "drawcount = [0]*27\n",
    "for i in range(1,27):\n",
    "    data_set = (data[(data['Draw']==i) ]['Normalized Score 2'] + points_per_country/float(24))*40\n",
    "    print i, data_set.mean(),  data_set.std(), data_set.count()\n",
    "    drawcount[i] = drawcount[i-1] + data_set.mean()\n",
    "print(drawcount[1:])\n",
    "print((data['Normalized Score 2'].mean()+1.0/24)*40)"
   ]
  },
  {
   "cell_type": "code",
   "execution_count": 14,
   "metadata": {
    "collapsed": true
   },
   "outputs": [],
   "source": [
    "features = ['Draw','Male singer','Female Singer','Duo','Band','Experienced artist','Final','Former Soviet','Baltic','Caucasus','Scandinavia',\n",
    "            'Tiny Country','Former Yugoslavia','Big Five','Nordic','Orthodox','Mediterranean','East Europe','British Isles',\n",
    "            'German Speaking','French Speaking','Northwest Europe','Romance Language','Germanic Language','Slavic Language','English Speaking','Normalized YT count']\n",
    "small_features = ['Draw','Male singer','Female Singer','Duo','Band','Experienced artist','Final','Normalized YT count']"
   ]
  },
  {
   "cell_type": "code",
   "execution_count": 10,
   "metadata": {
    "collapsed": true
   },
   "outputs": [],
   "source": [
    "target_features = ['Normalized Score 2']"
   ]
  },
  {
   "cell_type": "code",
   "execution_count": 4,
   "metadata": {
    "collapsed": true
   },
   "outputs": [],
   "source": [
    "country_regions = {}\n",
    "country_regions['Former Soviet'] = ['Russia','Belarus','Ukraine','Latvia','Lithuania','Estonia','Georgia','Moldova','Armenia','Azerbaijan']\n",
    "country_regions['Baltic'] = ['Latvia','Lithuania','Estonia']\n",
    "country_regions['Caucasus'] = ['Armenia','Azerbaijan','Georgia']\n",
    "country_regions['Scandinavia'] =['Denmark','Sweden','Norway']\n",
    "country_regions['Tiny Country'] = ['San Marino','Monaco','Andorra']\n",
    "country_regions['Former Yugoslavia']= ['Serbia','Montenegro','Slovenia','Croatia','Macedonia','Bosnia and Herzegovina']\n",
    "country_regions['Big Five'] = ['United Kingdom','Germany','France','Italy','Spain']\n",
    "country_regions['Nordic'] = ['Denmark','Sweden','Norway','Iceland','Finland']\n",
    "country_regions['Orthodox'] = ['Greece','Serbia','Bulgaria','Ukraine','Belarus','Russia','Romania','Moldova','Georgia','Armenia','Montenegro']\n",
    "country_regions['Mediterranean'] = ['France','Spain','Italy','Monaco','Malta','Albania','Croatia','Greece','Turkey','Cyprus','Israel','Portugal']\n",
    "country_regions['East Europe'] = ['Poland','Czech Republic','Slovakia','Hungary','Bulgaria','Romania']\n",
    "country_regions['British Isles'] = ['United Kingdom','Ireland']\n",
    "country_regions['German Speaking'] = ['Germany','Austria','Switzerland']\n",
    "country_regions['French Speaking'] = ['France','Switzerland','Belgium']\n",
    "country_regions['Northwest Europe'] = ['United Kingdom','Belgium','Netherlands','Ireland','Germany']\n",
    "country_regions['Romance Language'] = ['Portugal','Spain','Andorra','Belgium','France','Switzerland','Italy','San Marino','Romania','Moldova']\n",
    "country_regions['Germanic Language'] = ['United Kingdom','Ireland','Netherlands','Belgium','Germany','Switzerland','Denmark','Sweden','Iceland','Norway']\n",
    "country_regions['Slavic Language'] = ['Poland','Czech Republic','Slovakia','Bulgaria','Belarus','Ukraine','Serbia','Croatia','Slovenia','Macedonia','Montenegro','Bosnia and Herzegovina']\n",
    "country_regions['English Speaking'] = ['United Kingdom','Ireland','Australia']"
   ]
  },
  {
   "cell_type": "code",
   "execution_count": 7,
   "metadata": {
    "collapsed": false
   },
   "outputs": [],
   "source": [
    "for k in country_regions:\n",
    "    data[k] = 0\n",
    "    data.loc[data['Country'].isin(country_regions[k]),k] = 1"
   ]
  },
  {
   "cell_type": "code",
   "execution_count": 14,
   "metadata": {
    "collapsed": false
   },
   "outputs": [],
   "source": [
    "for k in country_regions:\n",
    "    test_data[k] = 0\n",
    "    test_data_sf1[k] = 0\n",
    "    test_data.loc[test_data['Country'].isin(country_regions[k]),k] = 1\n",
    "    test_data_sf1.loc[test_data_sf1['Country'].isin(country_regions[k]),k] = 1"
   ]
  },
  {
   "cell_type": "code",
   "execution_count": 15,
   "metadata": {
    "collapsed": false
   },
   "outputs": [],
   "source": [
    "countries_train_pd = pd.get_dummies(data['Country'])\n",
    "countries_test_pd = pd.get_dummies(test_data['Country'])\n",
    "country_col_to_add = np.setdiff1d(countries_train_pd.columns, countries_test_pd.columns)\n",
    "# add these columns to test, setting them equal to zero\n",
    "for c in country_col_to_add:\n",
    "    countries_test_pd[c] = 0\n",
    "# select and reorder the test columns using the train columns\n",
    "countries_test_pd = countries_test_pd[countries_train_pd.columns]\n",
    "countries_test = countries_test_pd.as_matrix()\n",
    "countries = countries_train_pd.as_matrix()"
   ]
  },
  {
   "cell_type": "code",
   "execution_count": 16,
   "metadata": {
    "collapsed": true
   },
   "outputs": [],
   "source": [
    "countries_test_sf1_pd = pd.get_dummies(test_data_sf1['Country'])\n",
    "country_col_to_add_sf1 = np.setdiff1d(countries_train_pd.columns, countries_test_sf1_pd.columns)\n",
    "# add these columns to test, setting them equal to zero\n",
    "for c in country_col_to_add_sf1:\n",
    "    countries_test_sf1_pd[c] = 0\n",
    "# select and reorder the test columns using the train columns\n",
    "countries_test_sf1_pd = countries_test_sf1_pd[countries_train_pd.columns]\n",
    "countries_test_sf1 = countries_test_sf1_pd.as_matrix()"
   ]
  },
  {
   "cell_type": "code",
   "execution_count": 17,
   "metadata": {
    "collapsed": true
   },
   "outputs": [],
   "source": [
    "languages_train_pd = pd.get_dummies(data['Language'])\n",
    "languages_test_pd = pd.get_dummies(test_data['Language'])\n",
    "languages_col_to_add = np.setdiff1d(languages_train_pd.columns,languages_test_pd.columns)\n",
    "for c in languages_col_to_add:\n",
    "    languages_test_pd[c] = 0\n",
    "languages_test_pd = languages_test_pd[languages_train_pd.columns]\n",
    "languages_test = languages_test_pd.as_matrix()\n",
    "languages = languages_train_pd.as_matrix()"
   ]
  },
  {
   "cell_type": "code",
   "execution_count": 18,
   "metadata": {
    "collapsed": true
   },
   "outputs": [],
   "source": [
    "languages_test_sf1_pd = pd.get_dummies(test_data_sf1['Language'])\n",
    "languages_col_to_add_sf1 = np.setdiff1d(languages_train_pd.columns,languages_test_sf1_pd.columns)\n",
    "for c in languages_col_to_add_sf1:\n",
    "    languages_test_sf1_pd[c] = 0\n",
    "languages_test_sf1_pd = languages_test_sf1_pd[languages_train_pd.columns]\n",
    "languages_test_sf1 = languages_test_sf1_pd.as_matrix()"
   ]
  },
  {
   "cell_type": "code",
   "execution_count": 84,
   "metadata": {
    "collapsed": false
   },
   "outputs": [],
   "source": [
    "total = np.hstack([data[features].as_matrix(),countries,languages])\n",
    "test_total = np.hstack([test_data[features].as_matrix(),countries_test,languages_test])\n",
    "target = data[target_features].as_matrix()"
   ]
  },
  {
   "cell_type": "code",
   "execution_count": 71,
   "metadata": {
    "collapsed": false
   },
   "outputs": [
    {
     "name": "stdout",
     "output_type": "stream",
     "text": [
      "{'max_features': 19, 'n_estimators': 5000, 'learning_rate': 0.002, 'max_depth': 3, 'min_samples_leaf': 3}\n",
      "0.197669758553\n"
     ]
    }
   ],
   "source": [
    "from sklearn.grid_search import GridSearchCV\n",
    "param_grid = {'learning_rate':[0.002],\n",
    "              'max_depth':[1,2,3,4,5],\n",
    "              'min_samples_leaf':[1,3,5,7],\n",
    "              'max_features':[13,15,17,19,21,23],\n",
    "              'n_estimators':[5000]\n",
    "             }\n",
    "est = GradientBoostingRegressor(n_estimators=1000)\n",
    "gs_cv = GridSearchCV(est,param_grid,n_jobs=4).fit(total,np.ravel(target))\n",
    "print gs_cv.best_params_\n",
    "print gs_cv.best_score_"
   ]
  },
  {
   "cell_type": "code",
   "execution_count": 72,
   "metadata": {
    "collapsed": false
   },
   "outputs": [
    {
     "name": "stdout",
     "output_type": "stream",
     "text": [
      "{'max_features': 19, 'n_estimators': 2000, 'learning_rate': 0.005, 'max_depth': 3, 'min_samples_leaf': 3}\n",
      "0.195724223244\n"
     ]
    }
   ],
   "source": [
    "param_grid = {'learning_rate':[0.001,0.002,0.005,0.01,0.02,0.05],\n",
    "              'max_depth':[3],\n",
    "              'min_samples_leaf':[3],\n",
    "              'max_features':[19],\n",
    "              'n_estimators':[1000,2000,5000,10000]\n",
    "             }\n",
    "est = GradientBoostingRegressor()\n",
    "gs_cv = GridSearchCV(est,param_grid,n_jobs=4).fit(total,np.ravel(target))\n",
    "print gs_cv.best_params_\n",
    "print gs_cv.best_score_"
   ]
  },
  {
   "cell_type": "code",
   "execution_count": 85,
   "metadata": {
    "collapsed": false
   },
   "outputs": [
    {
     "name": "stdout",
     "output_type": "stream",
     "text": [
      "      Iter       Train Loss   Remaining Time \n",
      "         1           4.1743            1.13s\n",
      "         2           4.1727            0.94s\n",
      "         3           4.1699            0.90s\n",
      "         4           4.1669            0.95s\n",
      "         5           4.1643            0.92s\n",
      "         6           4.1603            0.93s\n",
      "         7           4.1571            0.91s\n",
      "         8           4.1541            0.89s\n",
      "         9           4.1506            0.91s\n",
      "        10           4.1470            4.95s\n",
      "        20           4.1172            4.91s\n",
      "        30           4.0887            3.62s\n",
      "        40           4.0583            2.90s\n",
      "        50           4.0290            2.46s\n",
      "        60           4.0025            2.18s\n",
      "        70           3.9773            1.96s\n",
      "        80           3.9473            1.80s\n",
      "        90           3.9221            1.68s\n",
      "       100           3.8919            1.57s\n",
      "       200           3.6710            1.33s\n",
      "       300           3.4789            1.08s\n",
      "       400           3.3176            0.95s\n",
      "       500           3.2007            0.92s\n",
      "       600           3.1062            0.87s\n",
      "       700           3.0192            0.79s\n",
      "       800           2.9470            0.73s\n",
      "       900           2.8851            0.64s\n",
      "      1000           2.8266            0.57s\n",
      "      2000           2.4862            0.00s\n"
     ]
    }
   ],
   "source": [
    "tuned_boost = GradientBoostingRegressor(n_estimators=2000,verbose=1,max_features = 19,learning_rate=0.005,max_depth=3,min_samples_leaf=3)\n",
    "tuned_boost = tuned_boost.fit(total,np.ravel(target))"
   ]
  },
  {
   "cell_type": "code",
   "execution_count": 86,
   "metadata": {
    "collapsed": false
   },
   "outputs": [
    {
     "data": {
      "text/plain": [
       "[('Russia', 1.7766277747113937),\n",
       " ('Ukraine', 0.99974073482125914),\n",
       " ('Armenia', 0.83166559495889425),\n",
       " ('Sweden', 0.42416625787725432),\n",
       " ('Malta', 0.41396337093809255),\n",
       " ('Azerbaijan', 0.33681230537932877),\n",
       " ('France', 0.32172036860372555),\n",
       " ('Serbia', 0.13638361018034734),\n",
       " ('Latvia', 0.080818148351959898),\n",
       " ('Australia', 0.042259597927323603),\n",
       " ('Spain', -0.016295072914955314),\n",
       " ('United Kingdom', -0.052586376750956315),\n",
       " ('Georgia', -0.16095424868720093),\n",
       " ('Italy', -0.24216787461583039),\n",
       " ('Cyprus', -0.32432756541444913),\n",
       " ('Bulgaria', -0.39642425319618607),\n",
       " ('Netherlands', -0.42218463123209771),\n",
       " ('Lithuania', -0.47651184878021191),\n",
       " ('Poland', -0.60813090364342026),\n",
       " ('Belgium', -0.74130452768642185),\n",
       " ('Germany', -0.81521427991098161),\n",
       " ('Croatia', -0.87029848158722378),\n",
       " ('Israel', -0.89377406835479567),\n",
       " ('Austria', -0.91741703095891791),\n",
       " ('Hungary', -1.1284906201054374),\n",
       " ('Czech Republic', -1.7345871324705902)]"
      ]
     },
     "execution_count": 86,
     "metadata": {},
     "output_type": "execute_result"
    }
   ],
   "source": [
    "sorted(zip(test_data['Country'],tuned_boost.predict(test_total)),key = lambda x: x[1], reverse=True)"
   ]
  },
  {
   "cell_type": "code",
   "execution_count": 87,
   "metadata": {
    "collapsed": false
   },
   "outputs": [
    {
     "name": "stdout",
     "output_type": "stream",
     "text": [
      "4499.33306318\n",
      "4872\n",
      "Russia 336\n",
      "Ukraine 271\n",
      "Armenia 257\n",
      "Sweden 223\n",
      "Malta 222\n",
      "Azerbaijan 215\n",
      "France 214\n",
      "Serbia 198\n",
      "Latvia 194\n",
      "Australia 190\n",
      "Spain 186\n",
      "United Kingdom 182\n",
      "Georgia 173\n",
      "Italy 167\n",
      "Cyprus 160\n",
      "Bulgaria 154\n",
      "Netherlands 151\n",
      "Lithuania 147\n",
      "Poland 136\n",
      "Belgium 125\n",
      "Germany 118\n",
      "Croatia 114\n",
      "Israel 112\n",
      "Austria 110\n",
      "Hungary 92\n",
      "Czech Republic 41\n"
     ]
    }
   ],
   "source": [
    "predictions = (tuned_boost.predict(test_total)+points_per_country/(test_data['Countries competing'].apply(float)))*test_data['Countries Voting']*2\n",
    "print sum(predictions)\n",
    "print points_per_country * test_data['Countries Voting'][0] * 2\n",
    "pred_outcome = sorted(zip(test_data['Country'],predictions),key = lambda x: x[1], reverse=True)\n",
    "for l in pred_outcome:\n",
    "    print l[0], int(l[1])"
   ]
  },
  {
   "cell_type": "code",
   "execution_count": 88,
   "metadata": {
    "collapsed": false
   },
   "outputs": [],
   "source": [
    "#  np.hstack([data[features].as_matrix(),countries,languages])\n",
    "total_pd = pd.concat([data[features],countries_train_pd,languages_train_pd],axis=1)\n",
    "data_pd = pd.concat([total_pd,data['Year'],data['Normalized Score 2'],data['Normalized Score']],axis=1)\n",
    "data_2014 = data_pd[data_pd['Year']!=2015].drop(['Year','Normalized Score 2','Normalized Score'],axis = 1)\n",
    "target_2014_pd = data_pd[data_pd['Year']!= 2015]['Normalized Score 2']\n",
    "target_2014 = data_pd[data_pd['Year']!= 2015]['Normalized Score 2'].as_matrix()\n",
    "data_2015 = data_pd[data_pd['Year']==2015].drop(['Year','Normalized Score','Normalized Score 2'],axis = 1)\n",
    "country_data_2015 = data[data['Year']==2015][['Country','Countries competing','Countries Voting','Final']]\n",
    "data_final_2015 = data_2015[country_data_2015['Final']==1]\n",
    "country_data_final_2015 = country_data_2015[country_data_2015['Final']==1]\n",
    "target_2015 = data_pd[data_pd['Year']==2015]['Normalized Score 2']\n",
    "target_final_2015 = (target_2015[country_data_2015['Final']==1] +points_per_country/(country_data_final_2015['Countries competing'].apply(float)))*country_data_final_2015['Countries Voting']   "
   ]
  },
  {
   "cell_type": "code",
   "execution_count": 33,
   "metadata": {
    "collapsed": false
   },
   "outputs": [
    {
     "name": "stdout",
     "output_type": "stream",
     "text": [
      "      Iter       Train Loss   Remaining Time \n",
      "         1           4.0036            0.65s\n",
      "         2           3.9940            0.57s\n",
      "         3           3.9845            0.49s\n",
      "         4           3.9743            0.49s\n",
      "         5           3.9674            0.50s\n",
      "         6           3.9614            0.49s\n",
      "         7           3.9557            0.48s\n",
      "         8           3.9441            0.46s\n",
      "         9           3.9343            0.47s\n",
      "        10           3.9255            0.47s\n",
      "        20           3.8449            0.43s\n",
      "        30           3.7657            0.42s\n",
      "        40           3.7110            0.40s\n",
      "        50           3.6515            0.39s\n",
      "        60           3.6038            0.38s\n",
      "        70           3.5386            0.38s\n",
      "        80           3.4817            0.38s\n",
      "        90           3.4252            0.39s\n",
      "       100           3.3818            0.38s\n",
      "       200           2.9890            0.33s\n",
      "       300           2.7157            0.28s\n",
      "       400           2.5305            0.23s\n",
      "       500           2.3918            0.19s\n",
      "       600           2.2873            0.15s\n",
      "       700           2.2004            0.11s\n",
      "       800           2.1223            0.07s\n",
      "       900           2.0547            0.04s\n",
      "      1000           1.9925            0.00s\n"
     ]
    }
   ],
   "source": [
    "tuned_boost_2014 = GradientBoostingRegressor(n_estimators=1000,verbose=1,max_features = 12,learning_rate=0.01,max_depth=4)\n",
    "tuned_boost_2014 = tuned_boost.fit(data_2014,np.ravel(target_2014))\n",
    "predict_2015 = np.round((tuned_boost.predict(data_final_2015)+points_per_country/(country_data_final_2015['Countries competing'].apply(float)))*40)"
   ]
  },
  {
   "cell_type": "code",
   "execution_count": 34,
   "metadata": {
    "collapsed": false
   },
   "outputs": [
    {
     "name": "stdout",
     "output_type": "stream",
     "text": [
      "40.0\n",
      "27.0\n",
      "Slovenia 39 15 14 576 625\n",
      "France 4 14 17 81 144\n",
      "Israel 97 65 45 1024 2704\n",
      "Estonia 106 52 55 2916 2601\n",
      "United Kingdom 5 54 26 2401 441\n",
      "Armenia 34 98 105 4096 5041\n",
      "Lithuania 30 49 27 361 9\n",
      "Serbia 53 53 116 0 3969\n",
      "Norway 102 102 84 0 324\n",
      "Sweden 365 118 123 61009 58564\n",
      "Cyprus 10 50 27 1521 256\n",
      "Australia 196 76 106 14400 8100\n",
      "Belgium 217 74 39 20449 31684\n",
      "Austria 0 54 56 2916 3136\n",
      "Greece 23 96 122 5329 9801\n",
      "Montenegro 44 56 3 144 1681\n",
      "Germany 0 86 53 7396 2809\n",
      "Poland 10 50 18 1600 64\n",
      "Latvia 186 75 33 12321 23409\n",
      "Romania 35 84 79 2401 1936\n",
      "Spain 15 75 23 3600 64\n",
      "Hungary 19 84 58 4225 1521\n",
      "Georgia 51 122 60 5041 81\n",
      "Azerbaijan 49 191 139 20164 8100\n",
      "Russia 303 220 125 6889 31684\n",
      "Albania 34 153 52 14161 324\n",
      "Italy 292 79 77 45369 46225\n",
      "240390\n",
      "245297\n"
     ]
    }
   ],
   "source": [
    "countries_2015 = data[(data['Year']==2015) & data['Final']==1]['Country'].to_frame(name='Country')\n",
    "print country_data_final_2015['Countries Voting'].mean()\n",
    "print country_data_final_2015['Countries competing'].mean()\n",
    "#print data_2014['Germany']\n",
    "mse_2015 = 0\n",
    "mse_a_2015 = 0\n",
    "countries_2015['avg'] = 0\n",
    "countries_voting = country_data_final_2015['Countries Voting'].mean()\n",
    "countries_in_final = country_data_final_2015['Countries competing'].mean()\n",
    "for c in range(len(countries_2015.values)):\n",
    "    name = countries_2015.values[c][0]\n",
    "    if name == \"Australia\":\n",
    "        avg = 106\n",
    "    else:\n",
    "        avg = np.round((target_2014_pd[data_2014[name]==1].mean()+points_per_country/countries_voting)*40)\n",
    "    mse_2015 += int(target_final_2015[c+797]-predict_2015[c+797])**2\n",
    "    mse_a_2015 += int(target_final_2015[c+797]-avg)**2\n",
    "    print name,int(target_final_2015[c+797]),int(predict_2015[c+797]),int(avg),int(target_final_2015[c+797]-predict_2015[c+797])**2,int(target_final_2015[c+797]-avg)**2\n",
    "print mse_2015\n",
    "print mse_a_2015"
   ]
  },
  {
   "cell_type": "code",
   "execution_count": 36,
   "metadata": {
    "collapsed": false
   },
   "outputs": [
    {
     "name": "stdout",
     "output_type": "stream",
     "text": [
      "[('Sweden', 365.0, 118.0), ('Russia', 303.00000000000006, 220.0), ('Italy', 292.0, 79.0), ('Belgium', 217.0, 74.0), ('Australia', 196.0, 76.0), ('Latvia', 186.0, 75.0), ('Estonia', 106.0, 52.0), ('Norway', 102.0, 102.0), ('Israel', 97.0, 65.0), ('Serbia', 53.0, 53.0), ('Georgia', 51.0, 122.0), ('Azerbaijan', 49.0, 191.0), ('Montenegro', 44.0, 56.0), ('Slovenia', 39.0, 15.0), ('Romania', 35.0, 84.0), ('Armenia', 34.0, 98.0), ('Albania', 34.0, 153.0), ('Lithuania', 30.0, 49.0), ('Greece', 23.0, 96.0), ('Hungary', 19.000000000000004, 84.0), ('Spain', 15.0, 75.0), ('Cyprus', 10.999999999999996, 50.0), ('Poland', 10.0, 50.0), ('United Kingdom', 5.0, 54.0), ('France', 4.0000000000000036, 14.0), ('Austria', 0.0, 54.0), ('Germany', 0.0, 86.0)]\n",
      "2245.0\n"
     ]
    }
   ],
   "source": [
    "#tuned_boost_2014 = GradientBoostingRegressor(n_estimators=1000,verbose=1,max_features = 9,learning_rate=0.11,max_depth=4)\n",
    "#tuned_boost_2014 = tuned_boost.fit(data_2014,np.ravel(target_2014))\n",
    "#predictions_2015 = (tuned_boost.predict(data_final_2015.as_matrix())+points_per_country/(country_data_final_2015['Countries competing'].apply(float)))*country_data_final_2015['Countries Voting']\n",
    "\n",
    "print sorted(zip(country_data_final_2015['Country'],target_final_2015,predict_2015),key = lambda x: x[1], reverse=True)\n",
    "print sum(predict_2015)"
   ]
  },
  {
   "cell_type": "code",
   "execution_count": 89,
   "metadata": {
    "collapsed": false
   },
   "outputs": [
    {
     "data": {
      "text/plain": [
       "[('Normalized YT count', 0.16620627546332337),\n",
       " ('Draw', 0.10847819105939692),\n",
       " ('Ukraine', 0.02996788711845752),\n",
       " ('Serbian', 0.02996537715421525),\n",
       " ('Russia', 0.02906636551051724),\n",
       " ('Tiny Country', 0.027963654544504397),\n",
       " ('Scandinavia', 0.027584530860755775),\n",
       " ('Greece', 0.027077100613046377),\n",
       " ('Final', 0.026883212331977976),\n",
       " ('Slavic Language', 0.026366903270993003),\n",
       " ('English', 0.025684799134413676),\n",
       " ('Orthodox', 0.024453606761273367),\n",
       " ('Serbia and Montenegro', 0.023766663745216909),\n",
       " ('Bosnian', 0.023035802231729626),\n",
       " ('Experienced artist', 0.022312052235974905),\n",
       " ('Italy', 0.02144788900888189),\n",
       " ('Sweden', 0.020397798592879119),\n",
       " ('Turkey', 0.017872233905777898),\n",
       " ('Band', 0.01501726014665597),\n",
       " ('Montenegro', 0.014562542529245891),\n",
       " ('Nordic', 0.014416064295373655),\n",
       " ('British Isles', 0.013373327459667843),\n",
       " ('English,?Armenian', 0.012694618428208057),\n",
       " ('Czech Republic', 0.01230361177880949),\n",
       " ('Female Singer', 0.012102493505124748),\n",
       " ('Switzerland', 0.010916946979623334),\n",
       " ('French', 0.010476417757317233),\n",
       " ('English,?Spanish', 0.010028771627740773),\n",
       " ('Male singer', 0.0094615937449318305),\n",
       " ('Bosnia and Herzegovina', 0.0093204164189422001),\n",
       " ('Croatian', 0.0091081917929522836),\n",
       " ('Azerbaijan', 0.0085974907088734037),\n",
       " ('Romance Language', 0.0076672832668587204),\n",
       " ('Romania', 0.007181283105267877),\n",
       " ('Former Soviet', 0.006549482410413374),\n",
       " ('Duo', 0.006478273609480543),\n",
       " ('Baltic', 0.0062807222179388656),\n",
       " ('Belgium', 0.0060907642075496999),\n",
       " ('Big Five', 0.0059162371193544339),\n",
       " ('Poland', 0.0051604765639173926),\n",
       " ('Cyprus', 0.004725777989362673),\n",
       " ('English,?Hungarian', 0.0046951171611093337),\n",
       " ('Macedonia', 0.0044790715513840082),\n",
       " ('Greek', 0.0044115756293496254),\n",
       " ('Belarus', 0.0043695511038423802),\n",
       " ('Caucasus', 0.0043286363564111292),\n",
       " ('Latvia', 0.0042294320501902547),\n",
       " ('Austria', 0.0042165821983499961),\n",
       " ('Slovakia', 0.0040128371869709942),\n",
       " ('Lithuania', 0.0037683573832355869),\n",
       " ('East Europe', 0.0036565032843161056),\n",
       " ('Estonia', 0.0035095783864790308),\n",
       " ('Netherlands', 0.0033559476270336426),\n",
       " ('Finland', 0.0032991039136550885),\n",
       " ('Germanic Language', 0.0027791430339863354),\n",
       " ('Slovak', 0.0027510226516259222),\n",
       " ('English,?Greek', 0.0027257167090010358),\n",
       " ('Albanian', 0.0024347170964160191),\n",
       " ('Bulgaria', 0.0024178090657407986),\n",
       " ('Italian', 0.002366864602062682),\n",
       " ('Mediterranean', 0.0019603121935666853),\n",
       " ('Slovenia', 0.0019359010217210595),\n",
       " ('English Speaking', 0.0017976295816136819),\n",
       " ('Finnish', 0.0015858253520613561),\n",
       " ('Northwest Europe', 0.0015400084704941767),\n",
       " ('Denmark', 0.001523004291049738),\n",
       " ('Iceland', 0.0015189449217483805),\n",
       " ('Georgia', 0.0015031040885550915),\n",
       " ('Portugal', 0.00129715307035268),\n",
       " ('Ireland', 0.0012896574985153196),\n",
       " ('Former Yugoslavia', 0.0012709874977977543),\n",
       " ('French Speaking', 0.0012037397079050333),\n",
       " ('German Speaking', 0.0011912479928581534),\n",
       " ('Norway', 0.0011295564855841895),\n",
       " ('Israel', 0.0010615266458544974),\n",
       " ('Estonian', 0.0010528989881770192),\n",
       " ('Montenegrin', 0.0010024278000289931),\n",
       " ('Spain', 0.00094164953904968339),\n",
       " ('Armenia', 0.00085863646710837842),\n",
       " ('Serbia', 0.000845315118556761),\n",
       " ('Hebrew', 0.00082534923836647214),\n",
       " ('Croatia', 0.00080236935671882824),\n",
       " ('Turkish', 0.00072611743110082005),\n",
       " ('Polish', 0.00069954384696807202),\n",
       " ('France', 0.00060022287641026259),\n",
       " ('Germany', 0.00055023751545872689),\n",
       " ('Andorra', 0.00053673337604569194),\n",
       " ('Albania', 0.00052446995225822611),\n",
       " ('San Marino', 0.00048927769433990695),\n",
       " ('Moldova', 0.00048365221092793988),\n",
       " ('Hungary', 0.00039294602807877669),\n",
       " ('Malta', 0.00037656403563177121),\n",
       " ('Bulgarian', 0.00036288498656987652),\n",
       " ('English,?Hebrew', 0.00036160182027454655),\n",
       " ('Slovene', 0.00029934716440602985),\n",
       " ('United Kingdom', 0.00017772676646048892),\n",
       " ('Spanish', 0.00017766184758218298),\n",
       " ('Hebrew,?English', 6.0633122306641012e-05),\n",
       " ('Portuguese', 5.9733434910432197e-05),\n",
       " ('Catalan', 5.4988957707075051e-05),\n",
       " ('German', 4.9270392406604505e-05),\n",
       " ('Monaco', 3.7812209815632936e-05),\n",
       " ('English,?French', 3.6944936849625157e-05),\n",
       " ('Spanish,?English', 1.8064385858558154e-05),\n",
       " ('Hungarian', 1.5685004424300488e-05),\n",
       " ('Macedonian', 2.6764774183838916e-06),\n",
       " ('Australia', 0.0),\n",
       " ('Bosnian,?English', 0.0),\n",
       " ('Bosnian,?French', 0.0),\n",
       " ('Bulgarian, English', 0.0),\n",
       " ('Catalan,?English', 0.0),\n",
       " ('Corsican', 0.0),\n",
       " ('Croatian, English', 0.0),\n",
       " ('Croatian,?English', 0.0),\n",
       " ('Czech', 0.0),\n",
       " ('Dutch', 0.0),\n",
       " ('English, Bosnian', 0.0),\n",
       " ('English, Russian', 0.0),\n",
       " ('English, Spanish', 0.0),\n",
       " ('English,?Albanian', 0.0),\n",
       " ('English,?Bosnian', 0.0),\n",
       " ('English,?Catalan', 0.0),\n",
       " ('English,?French,?Hebrew', 0.0),\n",
       " ('English,?Hebrew,?Arabic', 0.0),\n",
       " ('English,?Imaginary', 0.0),\n",
       " ('English,?Italian', 0.0),\n",
       " ('English,?Italian,?Spanish,Russian,?French,?Romanian', 0.0),\n",
       " ('English,?Lithuanian', 0.0),\n",
       " ('English,?Macedonian', 0.0),\n",
       " ('English,?Maltese', 0.0),\n",
       " ('English,?Polish', 0.0),\n",
       " ('English,?Polish,?Spanish,?German,?Russian[4]', 0.0),\n",
       " ('English,?Portuguese', 0.0),\n",
       " ('English,?Romani', 0.0),\n",
       " ('English,?Romanian', 0.0),\n",
       " ('English,?Swahili', 0.0),\n",
       " ('English,?Turkish', 0.0),\n",
       " ('English,?Ukrainian', 0.0),\n",
       " ('English,Armenian', 0.0),\n",
       " ('English,Hebrew,?Arabic', 0.0),\n",
       " ('English,Russian', 0.0),\n",
       " ('English,Slovene', 0.0),\n",
       " ('English,\\x98Georgian', 0.0),\n",
       " ('English,\\x98Hebrew', 0.0),\n",
       " ('English,\\x98Italian', 0.0),\n",
       " ('English,\\x98Latvian', 0.0),\n",
       " ('English,\\x98Slovene', 0.0),\n",
       " ('English,\\x98Spanish', 0.0),\n",
       " ('French, English', 0.0),\n",
       " ('French, Spanish', 0.0),\n",
       " ('French,?English', 0.0),\n",
       " ('French,?English?(\"Franglais\")', 0.0),\n",
       " ('French,?Tahitian', 0.0),\n",
       " ('German, English', 0.0),\n",
       " ('German,?English', 0.0),\n",
       " ('German,?Polish, Russian', 0.0),\n",
       " ('German,?Turkish,English,?Hebrew', 0.0),\n",
       " ('Greek,?Italian', 0.0),\n",
       " ('Hebrew, English', 0.0),\n",
       " ('Icelandic', 0.0),\n",
       " ('Imaginary', 0.0),\n",
       " ('Italian, English', 0.0),\n",
       " ('Latvian', 0.0),\n",
       " ('Macedonian, English', 0.0),\n",
       " ('Macedonian,?English', 0.0),\n",
       " ('Macedonian,\\x98Romani', 0.0),\n",
       " ('Norwegian', 0.0),\n",
       " ('Polish, English', 0.0),\n",
       " ('Polish,?Russian', 0.0),\n",
       " ('Portuguese, English', 0.0),\n",
       " ('Portuguese,?English,?Spanish,?French', 0.0),\n",
       " ('Romanian', 0.0),\n",
       " ('Romanian, English', 0.0),\n",
       " ('Romanian,?Italian', 0.0),\n",
       " ('Romanian,English', 0.0),\n",
       " ('Russian', 0.0),\n",
       " ('Russian,Ukrainian', 0.0),\n",
       " ('Samogitian', 0.0),\n",
       " ('Serbian,?English', 0.0),\n",
       " ('Serbian,?German,?Finnish', 0.0),\n",
       " ('Spanish, English', 0.0),\n",
       " ('Spanish,English', 0.0),\n",
       " ('Swedish', 0.0),\n",
       " ('Turkish, English', 0.0),\n",
       " ('Turkish,?English', 0.0),\n",
       " ('Udmurt, English', 0.0),\n",
       " ('Ukrainian, English', 0.0),\n",
       " ('Ukrainian,?Russian,?German,?English', 0.0),\n",
       " ('V?ro', 0.0)]"
      ]
     },
     "execution_count": 89,
     "metadata": {},
     "output_type": "execute_result"
    }
   ],
   "source": [
    "sorted(zip(list(total_pd.columns.values),tuned_boost.feature_importances_),key = lambda x: x[1],reverse = True)"
   ]
  },
  {
   "cell_type": "code",
   "execution_count": 38,
   "metadata": {
    "collapsed": false
   },
   "outputs": [
    {
     "data": {
      "text/plain": [
       "<matplotlib.collections.PathCollection at 0x7fdc43fdc8d0>"
      ]
     },
     "execution_count": 38,
     "metadata": {},
     "output_type": "execute_result"
    },
    {
     "data": {
      "image/png": "[encoded data removed]",
      "text/plain": [
       "<matplotlib.figure.Figure at 0x7fdc4432bd10>"
      ]
     },
     "metadata": {},
     "output_type": "display_data"
    }
   ],
   "source": [
    "videocounts = data[(data['Videocounts']!=0)]['Normalized YT count']\n",
    "score = data[(data['Videocounts']!=0)]['Normalized Score 2']\n",
    "plt.scatter(videocounts,score)"
   ]
  },
  {
   "cell_type": "code",
   "execution_count": 36,
   "metadata": {
    "collapsed": false
   },
   "outputs": [],
   "source": [
    "import scipy"
   ]
  },
  {
   "cell_type": "code",
   "execution_count": 37,
   "metadata": {
    "collapsed": false
   },
   "outputs": [],
   "source": [
    "guess = [x*scipy.special.binom(10,x)*scipy.special.binom(8,10-x) for x in range(10,1,-1)]\n",
    "guess2 = [scipy.special.binom(10,x)*scipy.special.binom(8,10-x) for x in range(10,1,-1)]"
   ]
  },
  {
   "cell_type": "code",
   "execution_count": 38,
   "metadata": {
    "collapsed": false
   },
   "outputs": [
    {
     "name": "stdout",
     "output_type": "stream",
     "text": [
      "5.55555555556\n",
      "2.28529640294e-05\n",
      "0.00185109008638\n",
      "0.0306458247635\n",
      "0.184217743041\n",
      "0.520156314274\n"
     ]
    }
   ],
   "source": [
    "print(np.sum(guess)/scipy.special.binom(18,10))\n",
    "print(np.sum(guess2[:1])/scipy.special.binom(18,10))\n",
    "print(np.sum(guess2[:2])/scipy.special.binom(18,10))\n",
    "print(np.sum(guess2[:3])/scipy.special.binom(18,10))\n",
    "print(np.sum(guess2[:4])/scipy.special.binom(18,10))\n",
    "print(np.sum(guess2[:5])/scipy.special.binom(18,10))"
   ]
  },
  {
   "cell_type": "code",
   "execution_count": 40,
   "metadata": {
    "collapsed": false
   },
   "outputs": [
    {
     "name": "stdout",
     "output_type": "stream",
     "text": [
      "1.88262403904e-07\n",
      "3.03102470285e-05\n",
      "0.00104692722811\n",
      "0.0136981607704\n",
      "0.0856520515425\n",
      "0.292879256966\n"
     ]
    }
   ],
   "source": [
    "guess_final = [scipy.special.binom(10,x)*scipy.special.binom(16,10-x) for x in range(10,0,-1)]\n",
    "print(np.sum(guess_final[:1])/scipy.special.binom(26,10))\n",
    "print(np.sum(guess_final[:2])/scipy.special.binom(26,10))\n",
    "print(np.sum(guess_final[:3])/scipy.special.binom(26,10))\n",
    "print(np.sum(guess_final[:4])/scipy.special.binom(26,10))\n",
    "print(np.sum(guess_final[:5])/scipy.special.binom(26,10))\n",
    "print(np.sum(guess_final[:6])/scipy.special.binom(26,10))"
   ]
  },
  {
   "cell_type": "code",
   "execution_count": 24,
   "metadata": {
    "collapsed": false
   },
   "outputs": [
    {
     "name": "stdout",
     "output_type": "stream",
     "text": [
      "(1, 0.01, 9, 1000, 3.212984927472879)\n",
      "(1, 0.01, 10, 1000, 3.2173802449024311)\n",
      "(1, 0.01, 11, 1000, 3.1965427940259685)\n",
      "(1, 0.01, 12, 1000, 3.2025259152330068)\n"
     ]
    }
   ],
   "source": [
    "total_small = np.hstack([data[features].as_matrix(),countries,languages])\n",
    "test_total_small = np.hstack([test_data[features].as_matrix(),countries_test,languages_test])\n",
    "target = data[target_features].as_matrix()\n",
    "\n",
    "cross_sets = 10\n",
    "input_data_small_cross = np.array_split(total_small,cross_sets)\n",
    "target_data_small_cross = np.array_split(target,cross_sets)\n",
    "\n",
    "nr_estimators = 1000\n",
    "max_features = 12\n",
    "learning_rate = 0.01\n",
    "max_depth = 4\n",
    "\n",
    "for max_features in range(9,13,1):\n",
    "    mse_boost = 0\n",
    "    for i in range(cross_sets):\n",
    "        train_input_small_data = np.concatenate([input_data_small_cross[l] for l in range(len(input_data_cross)) if l!=i])\n",
    "        train_target_small_data = np.concatenate([target_data_small_cross[l] for l in range(len(target_data_cross)) if l!=i])\n",
    "        validation_input_data = input_data_small_cross[i]\n",
    "        validation_target_data = target_data_small_cross[i]\n",
    "        boost = GradientBoostingRegressor(n_estimators=nr_estimators,verbose=0,max_features= max_features,learning_rate=learning_rate,max_depth=max_depth,subsample=subsample)\n",
    "        boost = boost.fit(train_input_small_data,np.ravel(train_target_small_data))\n",
    "\n",
    "        predictions_small = boost.predict(validation_input_data)\n",
    "        mse_boost += np.dot(predictions_small - np.ravel(validation_target_data),predictions_small - np.ravel(validation_target_data))\n",
    "\n",
    "    print(subsample,learning_rate,max_features,nr_estimators,mse_boost/float(data['Score'].size))"
   ]
  },
  {
   "cell_type": "code",
   "execution_count": 29,
   "metadata": {
    "collapsed": false
   },
   "outputs": [
    {
     "name": "stdout",
     "output_type": "stream",
     "text": [
      "9 69.4217159307 53.0843533437 503\n",
      "9 56.0027317348 44.996555317 321\n"
     ]
    }
   ],
   "source": [
    "data_set = data[(data['Language']=='English') ]['Normalized Score']*24\n",
    "print i, data_set.mean(),  data_set.std(), data_set.count()\n",
    "data_set = data[(data['Language']!='English') ]['Normalized Score']*24\n",
    "print i, data_set.mean(),  data_set.std(), data_set.count()"
   ]
  },
  {
   "cell_type": "code",
   "execution_count": 30,
   "metadata": {
    "collapsed": false
   },
   "outputs": [
    {
     "name": "stdout",
     "output_type": "stream",
     "text": [
      "9 64.6527689617 51.1107526251 490\n",
      "9 63.5213868526 49.6269028297 334\n"
     ]
    }
   ],
   "source": [
    "data_set = data[(data['Experienced artist']==1) ]['Normalized Score']*24\n",
    "print i, data_set.mean(),  data_set.std(), data_set.count()\n",
    "data_set = data[(data['Experienced artist']==0) ]['Normalized Score']*24\n",
    "print i, data_set.mean(),  data_set.std(), data_set.count()"
   ]
  },
  {
   "cell_type": "code",
   "execution_count": 31,
   "metadata": {
    "collapsed": false
   },
   "outputs": [
    {
     "name": "stdout",
     "output_type": "stream",
     "text": [
      "93.3001597542 64.0399030473 72\n",
      "61.4074315129 48.1312761931 752\n"
     ]
    }
   ],
   "source": [
    "data_set = data[(data['Scandinavia']==1) ]['Normalized Score']*24\n",
    "print data_set.mean(),  data_set.std(), data_set.count()\n",
    "data_set = data[(data['Scandinavia']!=1) ]['Normalized Score']*24\n",
    "print data_set.mean(),  data_set.std(), data_set.count()"
   ]
  },
  {
   "cell_type": "code",
   "execution_count": 32,
   "metadata": {
    "collapsed": false
   },
   "outputs": [
    {
     "name": "stdout",
     "output_type": "stream",
     "text": [
      "64.867614099 50.4602818864 206\n",
      "65.8310709734 50.8770248734 164\n",
      "64.4969305875 51.6656655468 284\n",
      "61.2932209948 48.4360405295 170\n"
     ]
    }
   ],
   "source": [
    "data_set = data[(data['Male singer']==1) & (data['Experienced artist']==1)]['Normalized Score']*24\n",
    "print data_set.mean(),  data_set.std(), data_set.count()\n",
    "data_set = data[(data['Male singer']==1) & (data['Experienced artist']==0)]['Normalized Score']*24\n",
    "print data_set.mean(),  data_set.std(), data_set.count()\n",
    "data_set = data[(data['Male singer']==0) & (data['Experienced artist']==1)]['Normalized Score']*24\n",
    "print data_set.mean(),  data_set.std(), data_set.count()\n",
    "data_set = data[(data['Male singer']==0) & (data['Experienced artist']==0)]['Normalized Score']*24\n",
    "print data_set.mean(),  data_set.std(), data_set.count()"
   ]
  },
  {
   "cell_type": "code",
   "execution_count": 33,
   "metadata": {
    "collapsed": false
   },
   "outputs": [
    {
     "name": "stdout",
     "output_type": "stream",
     "text": [
      "9 111.394301148 56.9819860854 24\n",
      "9 62.7781709656 49.629961067 800\n"
     ]
    }
   ],
   "source": [
    "data_set = data[(data['Country']=='Russia') ]['Normalized Score']*24\n",
    "print i, data_set.mean(),  data_set.std(), data_set.count()\n",
    "data_set = data[(data['Country']!='Russia') ]['Normalized Score']*24\n",
    "print i, data_set.mean(),  data_set.std(), data_set.count()"
   ]
  },
  {
   "cell_type": "code",
   "execution_count": 39,
   "metadata": {
    "collapsed": false
   },
   "outputs": [
    {
     "name": "stdout",
     "output_type": "stream",
     "text": [
      "     Year     Country                   Artist  \\\n",
      "519  2010     Germany           Lena[125][126]   \n",
      "790  2015  Azerbaijan           Elnur Huseynov   \n",
      "707  2014     Armenia                 Aram MP3   \n",
      "599  2012      Russia    Buranovskiye Babushki   \n",
      "775  2015      Russia          Polina Gagarina   \n",
      "727  2014      Poland           Donatan�&�Cleo   \n",
      "698  2013     Denmark        Emmelie de Forest   \n",
      "667  2013  Azerbaijan           Farid Mammadov   \n",
      "470  2010      Serbia  Milan Stankovi?[67][68]   \n",
      "656  2013  Montenegro                  Who See   \n",
      "\n",
      "                               Song  Normalized YT count  Videocounts  \\\n",
      "519                     \"Satellite\"             0.310416      6753354   \n",
      "790              \"Hour of the Wolf\"             0.251126      5574686   \n",
      "707                     \"Not Alone\"             0.205550      3042587   \n",
      "599           \"Party for Everybody\"             0.175876      2601321   \n",
      "775              \"A Million Voices\"             0.173776      5421272   \n",
      "727  \"My S?owianie - We Are Slavic\"             0.158220      1446700   \n",
      "698                \"Only Teardrops\"             0.155115      3442397   \n",
      "667                       \"Hold Me\"             0.152398      1266009   \n",
      "470                 \"Ovo je Balkan\"             0.138115       986605   \n",
      "656             \"Igranka\" (???????)             0.136141      1575078   \n",
      "\n",
      "     Normalized Score 2  \n",
      "519            3.987692  \n",
      "790           -0.887955  \n",
      "707            2.743421  \n",
      "599            4.015873  \n",
      "775            5.475000  \n",
      "727            0.022222  \n",
      "698            4.974359  \n",
      "667            3.538235  \n",
      "470            0.538235  \n",
      "656           -1.467105  \n"
     ]
    }
   ],
   "source": [
    "print data.sort_values(['Normalized YT count'],ascending=False)[['Year','Country','Artist','Song','Normalized YT count','Videocounts','Normalized Score 2']][:10]"
   ]
  },
  {
   "cell_type": "code",
   "execution_count": 49,
   "metadata": {
    "collapsed": false
   },
   "outputs": [
    {
     "name": "stdout",
     "output_type": "stream",
     "text": [
      "     Year    Country              Artist                    Song  \\\n",
      "488  2010    Ukraine   Alyosha[100][101]          \"Sweet People\"   \n",
      "651  2013    Croatia        Klapa s Mora               \"Mi?erja\"   \n",
      "733  2014  Macedonia              Tijana            \"To the Sky\"   \n",
      "660  2013    Ireland          Ryan Dolan    \"Only Love Survives\"   \n",
      "648  2013    Austria       Nat�lia Kelly                 \"Shine\"   \n",
      "776  2015    Denmark   Anti Social Media       \"The Way You Are\"   \n",
      "781  2015    Ireland      Molly Sterling  \"Playing with Numbers\"   \n",
      "737  2014    Romania  Paula Seling�&�Ovi               \"Miracle\"   \n",
      "615  2012    Georgia       Anri Jokhadze           \"I'm a Joker\"   \n",
      "659  2013    Moldova         Aliona Moon                 \"O mie\"   \n",
      "\n",
      "     Normalized YT count  Videocounts  Normalized Score 2  \n",
      "488            -0.043983        95542            0.640867  \n",
      "651            -0.044311       144222           -1.625000  \n",
      "733            -0.044481       142723           -2.033333  \n",
      "660            -0.044960       139083           -0.782895  \n",
      "648            -0.044961       139075           -2.203947  \n",
      "776            -0.044982       401953           -1.975000  \n",
      "781            -0.045714       235780           -1.745098  \n",
      "737            -0.050099       106582            3.077778  \n",
      "615            -0.050850        41131           -1.507937  \n",
      "659            -0.054561        62949            1.375000  \n"
     ]
    }
   ],
   "source": [
    "print data.sort_values(['Normalized YT count'],ascending=False)[['Year','Country','Artist','Song','Normalized YT count','Videocounts','Normalized Score 2']][-10:]"
   ]
  },
  {
   "cell_type": "code",
   "execution_count": 40,
   "metadata": {
    "collapsed": true
   },
   "outputs": [],
   "source": [
    "# from http://blog.datadive.net/prediction-intervals-for-random-forests/\n",
    "def pred_ints(model, X, percentile=95):\n",
    "    err_down = []\n",
    "    err_up = []\n",
    "    for x in range(len(X)):\n",
    "        preds = []\n",
    "        for pred in model.estimators_:\n",
    "            preds.append(pred[0].predict(np.reshape(X[x],(1,len(X[x]))))[0])\n",
    "        err_down.append(np.percentile(preds, (100 - percentile) / 2. ))\n",
    "        err_up.append(np.percentile(preds, 100 - (100 - percentile) / 2.))\n",
    "    return err_down, err_up"
   ]
  },
  {
   "cell_type": "code",
   "execution_count": 90,
   "metadata": {
    "collapsed": false
   },
   "outputs": [],
   "source": [
    "countries_voting = test_data['Countries Voting'].mean()\n",
    "upper_lower = np.array(pred_ints(tuned_boost,test_total,percentile=95))*countries_voting*2"
   ]
  },
  {
   "cell_type": "code",
   "execution_count": 91,
   "metadata": {
    "collapsed": false
   },
   "outputs": [],
   "source": [
    "error_means = np.vstack([np.array(test_data['Country']),np.array(predictions),upper_lower])\n",
    "sorted_error_means = error_means[:,error_means[1].argsort()[::-1]]"
   ]
  },
  {
   "cell_type": "code",
   "execution_count": 95,
   "metadata": {
    "collapsed": false,
    "scrolled": false
   },
   "outputs": [
    {
     "data": {
      "image/png": "[encoded data removed]",
      "text/plain": [
       "<matplotlib.figure.Figure at 0x7fdc4357ddd0>"
      ]
     },
     "metadata": {},
     "output_type": "display_data"
    }
   ],
   "source": [
    "#import matplotlib\n",
    "matplotlib.rcParams.update({'font.size': 22})\n",
    "plt.figure(figsize=(20,15))\n",
    "ind = np.arange(sorted_error_means.shape[1])\n",
    "fig = plt.bar(ind, sorted_error_means[1],color='b', yerr = np.abs(sorted_error_means[2:]),ecolor='black',alpha=0.6)\n",
    "plt.xticks(ind+0.4,sorted_error_means[0],rotation='vertical')\n",
    "plt.ylim([0,500])\n",
    "plt.show()"
   ]
  },
  {
   "cell_type": "code",
   "execution_count": 55,
   "metadata": {
    "collapsed": false
   },
   "outputs": [
    {
     "name": "stdout",
     "output_type": "stream",
     "text": [
      "5\n",
      "572    2.075349\n",
      "631    0.173993\n",
      "703    1.000000\n",
      "753   -1.338877\n",
      "823    5.151852\n",
      "Name: Normalized Score 2, dtype: float64\n",
      "572    189\n",
      "631    101\n",
      "703    126\n",
      "753     33\n",
      "823    292\n",
      "Name: Score, dtype: int64\n"
     ]
    }
   ],
   "source": [
    "print data[data['Country']=='Italy'].shape[0]\n",
    "print data[data['Country']=='Italy']['Normalized Score 2']\n",
    "print data[data['Country']=='Italy']['Score']"
   ]
  },
  {
   "cell_type": "code",
   "execution_count": 114,
   "metadata": {
    "collapsed": false
   },
   "outputs": [
    {
     "name": "stdout",
     "output_type": "stream",
     "text": [
      "{'epsilon': 1.0, 'C': 0.10000000000000001, 'tol': 0.10000000000000001, 'kernel': 'linear'}\n",
      "0.122389648106\n"
     ]
    }
   ],
   "source": [
    "sv_regressor = svm.SVR()\n",
    "\n",
    "kernel = 'rbf' # ‘linear’, ‘poly’, ‘rbf’, ‘sigmoid’\n",
    "tol = 1e-3\n",
    "C = 1.0\n",
    "epsilon = 0.1\n",
    "\n",
    "param_grid = {'kernel':['rbf','linear','poly','sigmoid'],\n",
    "              'tol':np.logspace(-5,-1,5),\n",
    "              'C':np.logspace(-2,2,5),\n",
    "              'epsilon':np.logspace(-3,1,5)\n",
    "             }\n",
    "est = svm.SVR()\n",
    "gs_cv = GridSearchCV(est,param_grid,n_jobs =4).fit(total,np.ravel(target))\n",
    "print gs_cv.best_params_\n",
    "print gs_cv.best_score_"
   ]
  },
  {
   "cell_type": "code",
   "execution_count": 120,
   "metadata": {
    "collapsed": false
   },
   "outputs": [
    {
     "name": "stdout",
     "output_type": "stream",
     "text": [
      "3.59790833559\n"
     ]
    }
   ],
   "source": [
    "cross_sets = 10\n",
    "input_data_cross = np.array_split(total,cross_sets)\n",
    "target_data_cross = np.array_split(target,cross_sets)\n",
    "\n",
    "kernel = 'linear'\n",
    "tol = 0.1\n",
    "epsilon = 1.0\n",
    "C = 0.1\n",
    "\n",
    "\n",
    "mse_vector = 0\n",
    "for i in range(cross_sets):\n",
    "        train_input_data = np.concatenate([input_data_cross[l] for l in range(len(input_data_cross)) if l!=i])\n",
    "        train_target_data = np.concatenate([target_data_cross[l] for l in range(len(target_data_cross)) if l!=i])\n",
    "        validation_input_data = input_data_cross[i]\n",
    "        validation_target_data = target_data_cross[i]\n",
    "        vector = svm.SVR(kernel=kernel,tol=tol,epsilon=epsilon,C=C)\n",
    "        vector = vector.fit(train_input_data,np.ravel(train_target_data))\n",
    "\n",
    "        predictions_vector = vector.predict(validation_input_data)\n",
    "        mse_vector  += np.dot(predictions_vector  - np.ravel(validation_target_data),predictions_vector  - np.ravel(validation_target_data))\n",
    "\n",
    "print(mse_vector/float(data.shape[0]))"
   ]
  },
  {
   "cell_type": "code",
   "execution_count": 115,
   "metadata": {
    "collapsed": true
   },
   "outputs": [],
   "source": [
    "sv_regressor = svm.SVR(kernel='linear',tol=0.1,epsilon=1.0,C=0.1)\n",
    "sv_regressor = sv_regressor.fit(total,np.ravel(target))"
   ]
  },
  {
   "cell_type": "code",
   "execution_count": 116,
   "metadata": {
    "collapsed": false
   },
   "outputs": [
    {
     "data": {
      "text/plain": [
       "[('Armenia', 1.6044675161957922),\n",
       " ('Russia', 1.308225855629088),\n",
       " ('Ukraine', 0.88501891889344808),\n",
       " ('Sweden', 0.73272799833311941),\n",
       " ('Georgia', 0.64077048978179563),\n",
       " ('Serbia', 0.25811195270535525),\n",
       " ('Azerbaijan', 0.21891347232583325),\n",
       " ('Malta', 0.087139382539935584),\n",
       " ('Latvia', 0.020753095003171129),\n",
       " ('United Kingdom', -0.024985549295123199),\n",
       " ('Austria', -0.13265743957473364),\n",
       " ('Australia', -0.2439417575351181),\n",
       " ('Croatia', -0.24465417304616638),\n",
       " ('Spain', -0.25848997784260636),\n",
       " ('Lithuania', -0.40623536979170799),\n",
       " ('Israel', -0.57049267603051312),\n",
       " ('Cyprus', -0.61797597672532234),\n",
       " ('Bulgaria', -0.63909479029102723),\n",
       " ('Italy', -0.69006204615408229),\n",
       " ('Germany', -0.69241282723228181),\n",
       " ('Hungary', -0.71167823041006739),\n",
       " ('France', -0.92315787478828193),\n",
       " ('Poland', -1.0363627448106041),\n",
       " ('Netherlands', -1.167533406780541),\n",
       " ('Belgium', -1.5268500909816223),\n",
       " ('Czech Republic', -1.7127040321990834)]"
      ]
     },
     "execution_count": 116,
     "metadata": {},
     "output_type": "execute_result"
    }
   ],
   "source": [
    "sorted(zip(test_data['Country'],sv_regressor.predict(test_total)),key = lambda x: x[1], reverse=True)"
   ]
  },
  {
   "cell_type": "code",
   "execution_count": 122,
   "metadata": {
    "collapsed": false
   },
   "outputs": [],
   "source": [
    "total = np.hstack([data[features].as_matrix(),countries,languages])\n",
    "test_total = np.hstack([test_data[features].as_matrix(),countries_test,languages_test])\n",
    "data['log rank'] = data['Rank'].apply(np.log10)\n",
    "target_rank = data['log rank'].as_matrix()"
   ]
  },
  {
   "cell_type": "code",
   "execution_count": 124,
   "metadata": {
    "collapsed": false
   },
   "outputs": [
    {
     "name": "stdout",
     "output_type": "stream",
     "text": [
      "{'loss': 'lad', 'learning_rate': 0.01, 'min_samples_leaf': 3, 'n_estimators': 1000, 'max_features': 6, 'max_depth': 6}\n",
      "0.133398451705\n"
     ]
    }
   ],
   "source": [
    "param_grid = {'learning_rate':[0.001,0.002,0.005,0.01],\n",
    "              'max_depth':[2,3,4,5,6],\n",
    "              'min_samples_leaf':[1,3,5,7],\n",
    "              'max_features':[6,8,10,12,14,16],\n",
    "              'n_estimators':[1000],\n",
    "              'loss':['lad']\n",
    "             }\n",
    "est = GradientBoostingRegressor()\n",
    "gs_cv = GridSearchCV(est,param_grid,n_jobs=4).fit(total,np.ravel(target_rank))\n",
    "print gs_cv.best_params_\n",
    "print gs_cv.best_score_"
   ]
  },
  {
   "cell_type": "code",
   "execution_count": 127,
   "metadata": {
    "collapsed": false
   },
   "outputs": [
    {
     "name": "stdout",
     "output_type": "stream",
     "text": [
      "{'loss': 'lad', 'learning_rate': 0.01, 'min_samples_leaf': 3, 'n_estimators': 1000, 'max_features': 6, 'max_depth': 7}\n",
      "0.138509668504\n"
     ]
    }
   ],
   "source": [
    "param_grid = {'learning_rate':[0.001,0.002,0.005,0.01],\n",
    "              'max_depth':[6,7,8,9],\n",
    "              'min_samples_leaf':[3],\n",
    "              'max_features':[6],\n",
    "              'n_estimators':[1000,2000,5000,10000],\n",
    "              'loss':['lad']\n",
    "             }\n",
    "est = GradientBoostingRegressor()\n",
    "gs_cv = GridSearchCV(est,param_grid,n_jobs=4).fit(total,np.ravel(target_rank))\n",
    "print gs_cv.best_params_\n",
    "print gs_cv.best_score_"
   ]
  },
  {
   "cell_type": "code",
   "execution_count": 129,
   "metadata": {
    "collapsed": false
   },
   "outputs": [],
   "source": [
    "log_ranking_model = GradientBoostingRegressor(n_estimators=1000,loss='lad',learning_rate=0.01,max_depth=7,max_features=6,min_samples_leaf=3)\n",
    "log_ranking_model = log_ranking_model.fit(total,np.ravel(target_rank))"
   ]
  },
  {
   "cell_type": "code",
   "execution_count": 130,
   "metadata": {
    "collapsed": false
   },
   "outputs": [
    {
     "name": "stdout",
     "output_type": "stream",
     "text": [
      "[('Russia', 0.66133236379329685), ('Azerbaijan', 0.72543614476447027), ('Ukraine', 0.7726187636535895), ('Armenia', 0.88614407585088162), ('Sweden', 0.90765745483890126), ('Serbia', 0.91762156472365519), ('Malta', 1.01311979942653), ('Latvia', 1.0189407206205263), ('Italy', 1.0520910058680499), ('Australia', 1.0656019691580119), ('Poland', 1.0986435555142533), ('Netherlands', 1.1081608562697247), ('Croatia', 1.1096107672722375), ('Georgia', 1.1104828187671325), ('Bulgaria', 1.1165080548120783), ('Spain', 1.1217352866886545), ('United Kingdom', 1.1266469432684663), ('Lithuania', 1.1336016793073753), ('Belgium', 1.1418070234091515), ('Cyprus', 1.151729838263253), ('Israel', 1.1607492905518819), ('Hungary', 1.1711930192470612), ('France', 1.1889141284443998), ('Germany', 1.2026702546117265), ('Austria', 1.2427341170432908), ('Czech Republic', 1.2454163423087545)]\n"
     ]
    }
   ],
   "source": [
    "predictions_final_rank = log_ranking_model.predict(test_total)\n",
    "print(sorted(zip(test_data['Country'],predictions_final_rank),key = lambda x: x[1], reverse=False))"
   ]
  },
  {
   "cell_type": "code",
   "execution_count": 170,
   "metadata": {
    "collapsed": false,
    "scrolled": true
   },
   "outputs": [
    {
     "name": "stdout",
     "output_type": "stream",
     "text": [
      "[('Azerbaijan', 0.44976143363467469), ('Russia', 0.63388781850080334), ('Bosnia and Herzegovina', 0.74877582129871567), ('Greece', 0.7710415923623315), ('Armenia', 0.79535039795244045), ('Malta', 0.79710466866030283), ('Estonia', 0.95960090029962386), ('Iceland', 0.97883762486919978), ('Netherlands', 1.0372029758668868), ('Moldova', 1.0372213576616571), ('Hungary', 1.0565475638099637), ('Montenegro', 1.0713560984911528), ('Cyprus', 1.0878136053779914), ('Croatia', 1.0918992794137106), ('Finland', 1.0971986566691849), ('Czech Republic', 1.1146757186258214), ('Austria', 1.145929346504855), ('San Marino', 1.1513636843194943)]\n"
     ]
    }
   ],
   "source": [
    "test_total_semi1 = np.hstack([test_data_sf1[features].as_matrix(),countries_test_sf1,languages_test_sf1])\n",
    "predictions_semi1_rank = log_ranking_model.predict(test_total_semi1)\n",
    "print(sorted(zip(test_data_sf1['Country'],predictions_semi1_rank),key = lambda x: x[1], reverse=False))"
   ]
  },
  {
   "cell_type": "code",
   "execution_count": 161,
   "metadata": {
    "collapsed": false
   },
   "outputs": [
    {
     "name": "stdout",
     "output_type": "stream",
     "text": [
      "[('Ukraine', 0.57822711646559899), ('Lithuania', 0.71275873406504997), ('Ireland', 0.76178032481217728), ('Albania', 0.77225703329047934), ('Belgium', 0.82738540238381986), ('Poland', 0.84216433349578357), ('Denmark', 0.95927272331977664), ('Serbia', 0.99977709954434812), ('Australia', 1.0245453061145451), ('Slovenia', 1.0314914838180498), ('Georgia', 1.041033286296402), ('Switzerland', 1.0429749522074996), ('Israel', 1.0709819480913962), ('Norway', 1.0912871717535517), ('Latvia', 1.106740115442272), ('Belarus', 1.1307848119670172), ('Bulgaria', 1.1366207083357864), ('Macedonia', 1.1900587139434571)]\n"
     ]
    }
   ],
   "source": [
    "test_total_semi2 = np.hstack([test_data[features].as_matrix(),countries_test,languages_test])\n",
    "predictions_semi2_rank = log_ranking_model.predict(test_total_semi1)\n",
    "print(sorted(zip(test_data['Country'],predictions_semi2_rank),key = lambda x: x[1], reverse=False))"
   ]
  },
  {
   "cell_type": "code",
   "execution_count": 110,
   "metadata": {
    "collapsed": false
   },
   "outputs": [],
   "source": [
    "data['Prediction error'] = 0.0\n",
    "data['Predicted points'] = 0.0\n",
    "for l in range(data.shape[0]):\n",
    "    dpoint = total[l].reshape(1,-1)\n",
    "    predicted_points = tuned_boost.predict(dpoint)\n",
    "    actual_points = target[l]\n",
    "    data.loc[l,'Prediction error'] = actual_points - predicted_points\n",
    "    data.loc[l,'Predicted points'] = predicted_points"
   ]
  },
  {
   "cell_type": "code",
   "execution_count": 102,
   "metadata": {
    "collapsed": false
   },
   "outputs": [
    {
     "name": "stdout",
     "output_type": "stream",
     "text": [
      "     Year  Country                         Artist  Normalized Score 2  Score  \\\n",
      "728  2014  Austria                 Conchita Wurst            5.522222    169   \n",
      "748  2014  Austria                 Conchita Wurst            5.607069    290   \n",
      "91   2001  Estonia  Tanel Padar,?Dave Benton,?2XL            6.086957    198   \n",
      "473  2010  Belgium               Tom Dice[72][73]            4.938235    167   \n",
      "413  2009  Iceland                    Yohanna[68]            5.477778    174   \n",
      "256  2006  Finland                          Lordi            5.267544    292   \n",
      "806  2015   Sweden                 M?ns Zelmerl?w            6.976852    365   \n",
      "7    1998   Israel             Dana International            4.560000    172   \n",
      "61   2000  Denmark                 Olsen Brothers            5.708333    195   \n",
      "279  2006  Finland                          Lordi            5.162471    292   \n",
      "\n",
      "     Rank  Prediction error Date of contest  \n",
      "728     1          5.596203      2014.05.08  \n",
      "748     1          5.592036      2014.05.10  \n",
      "91      1          5.589514               0  \n",
      "473     1          5.429465      2010.05.25  \n",
      "413     1          5.033683      2009.05.12  \n",
      "256     1          4.953328               0  \n",
      "806     1          4.923672      2015.05.23  \n",
      "7       1          4.905834               0  \n",
      "61      1          4.887881               0  \n",
      "279     1          4.781187               0  \n"
     ]
    }
   ],
   "source": [
    "print data.sort_values(['Prediction error'],ascending=False)[['Year','Country','Artist','Normalized Score 2','Score','Rank','Prediction error','Date of contest']][:10]"
   ]
  },
  {
   "cell_type": "code",
   "execution_count": 104,
   "metadata": {
    "collapsed": false
   },
   "outputs": [
    {
     "name": "stdout",
     "output_type": "stream",
     "text": [
      "     Year         Country              Artist  Normalized Score 2  Score  \\\n",
      "15   1998  United Kingdom              Imaani            4.320000    166   \n",
      "9    1998           Malta              Chiara            4.280000    165   \n",
      "85   2001          France     Natasha St-Pier            3.652174    142   \n",
      "114  2002           Malta           Ira Losco            4.416667    164   \n",
      "140  2003         Belgium          Urban Trad            4.115385    165   \n",
      "823  2015           Italy             Il Volo            5.151852    292   \n",
      "94   2001         Denmark        Rollo & King            5.173913    177   \n",
      "761  2014     Netherlands  The Common Linnets            4.201663    238   \n",
      "37   1999         Iceland               Selma            3.826087    146   \n",
      "45   1999         Germany             S�rpriz            3.565217    140   \n",
      "\n",
      "     Rank  Prediction error  \n",
      "15      2          4.707827  \n",
      "9       3          4.316682  \n",
      "85      4          4.134720  \n",
      "114     2          4.082986  \n",
      "140     2          3.951075  \n",
      "823     3          3.870334  \n",
      "94      2          3.837907  \n",
      "761     2          3.633500  \n",
      "37      2          3.585655  \n",
      "45      3          3.489326  \n"
     ]
    }
   ],
   "source": [
    "print data[(data['Rank']!=1) & (data['Final']==1)].sort_values(['Prediction error'],ascending=False)[['Year','Country','Artist','Normalized Score 2','Score','Rank','Prediction error']][:10]"
   ]
  },
  {
   "cell_type": "code",
   "execution_count": 113,
   "metadata": {
    "collapsed": false
   },
   "outputs": [
    {
     "name": "stdout",
     "output_type": "stream",
     "text": [
      "                 Artist      Country  Year  Normalized Score 2  Score  Rank  \\\n",
      "791         Maria Olafs      Iceland  2015           -2.745098     14    15   \n",
      "204    Martin Stenmarck       Sweden  2005           -1.647436     30    19   \n",
      "790      Elnur Huseynov   Azerbaijan  2015           -0.887955     53    10   \n",
      "438         The Toppers  Netherlands  2009           -2.552632     11    17   \n",
      "724        Mei Finegold       Israel  2014           -2.811111     19    14   \n",
      "108              Malene      Denmark  2002           -2.125000      7    24   \n",
      "206          GreenJolly      Ukraine  2005           -1.647436     30    19   \n",
      "820      Elnur Huseynov   Azerbaijan  2015           -0.923148     49    12   \n",
      "469       Aisha[65][66]       Latvia  2010           -2.861765     11    17   \n",
      "717    Cristina Scarlat      Moldova  2014           -2.940789     13    16   \n",
      "210  Natalia Podolskaya       Russia  2005           -0.955128     57    15   \n",
      "\n",
      "     Prediction error  \n",
      "791         -3.225369  \n",
      "204         -3.061804  \n",
      "790         -3.025693  \n",
      "438         -2.940881  \n",
      "724         -2.903588  \n",
      "108         -2.828820  \n",
      "206         -2.800383  \n",
      "820         -2.745473  \n",
      "469         -2.733555  \n",
      "717         -2.706414  \n",
      "210         -2.663343  \n"
     ]
    }
   ],
   "source": [
    "print data.sort_values(['Prediction error'],ascending=True)[['Artist','Country','Year','Normalized Score 2','Score','Rank','Prediction error']][:11]"
   ]
  },
  {
   "cell_type": "code",
   "execution_count": 109,
   "metadata": {
    "collapsed": false
   },
   "outputs": [
    {
     "name": "stdout",
     "output_type": "stream",
     "text": [
      "    Year         Country              Artist  Score  Rank  Prediction error\n",
      "7   1998          Israel  Dana International    172     1          4.905834\n",
      "15  1998  United Kingdom              Imaani    166     2          4.707827\n",
      "9   1998           Malta              Chiara    165     3          4.316682\n",
      "17  1998     Netherlands             Edsilia    150     4          3.442051\n",
      "0   1998         Croatia            Danijela    131     5          3.260341\n",
      "19  1998         Belgium        M?lanie Cohl    122     6          2.627115\n",
      "8   1998         Germany         Guildo Horn     86     7          1.635110\n",
      "12  1998         Ireland         Dawn Martin     64     9          0.581611\n",
      "21  1998          Norway     Lars Fredriksen     79     8          0.064686\n",
      "6   1998          Poland             Sixteen     19    17         -0.351568\n",
      "16  1998          Cyprus   Michael Hajiyanni     37    11         -0.436062\n",
      "13  1998        Portugal           Alma Lusa     36    12         -0.442259\n",
      "3   1998           Spain        Mikel Herzog     21    16         -0.598417\n",
      "5   1998        Slovakia   Katar?na Hasprov�      8    21         -0.704361\n",
      "2   1998          France          Marie Line      3    24         -0.881130\n",
      "4   1998     Switzerland              Gunvor      0    25         -0.988324\n",
      "11  1998        Slovenia         Vili Resnik     17    18         -1.076309\n",
      "22  1998         Estonia          Koit Toome     36    12         -1.257486\n",
      "24  1998       Macedonia      Vlado Janevski     16    19         -1.422370\n",
      "18  1998          Sweden        Jill Johnson     53    10         -1.479019\n",
      "20  1998         Finland                Edea     22    15         -1.555720\n",
      "23  1998          Turkey              T�zmen     25    14         -1.769545\n",
      "10  1998         Hungary             Charlie      4    23         -1.898597\n",
      "1   1998          Greece            Thalassa     12    20         -2.037950\n",
      "14  1998         Romania     M?lina Olinescu      6    22         -2.260520\n",
      "    Year                 Country                         Artist  Score  Rank  \\\n",
      "37  1999                 Iceland                          Selma    146     2   \n",
      "45  1999                 Germany                        S�rpriz    140     3   \n",
      "39  1999                  Sweden              Charlotte Nilsson    163     1   \n",
      "28  1999                 Croatia                 Doris Dragovi?    118     4   \n",
      "43  1999                  Israel                           Eden     93     5   \n",
      "46  1999  Bosnia and Herzegovina                Dino?&?B?atrice     86     7   \n",
      "47  1999                 Estonia        Evelin Samuel?&?Camille     90     6   \n",
      "35  1999             Netherlands                       Marlayne     71     8   \n",
      "30  1999                Slovenia                  Darja ?vajger     50    11   \n",
      "29  1999          United Kingdom                       Precious     38    12   \n",
      "42  1999                 Austria                  Bobbie Singer     65    10   \n",
      "33  1999                 Denmark  Trine Jepsen?&?Michael Teschl     71     8   \n",
      "26  1999                 Belgium               Vanessa Chinitor     38    12   \n",
      "36  1999                  Poland              Mietek Szcze?niak     17    18   \n",
      "34  1999                  France                          Nayah     14    19   \n",
      "25  1999               Lithuania                          Aist?     13    20   \n",
      "41  1999                 Ireland                    The Mullans     18    17   \n",
      "32  1999                  Norway                  Stig Van Eijk     35    14   \n",
      "44  1999                   Malta                    Times Three     32    15   \n",
      "31  1999                  Turkey       Tu?ba ?nal?&?Grup Mistik     21    16   \n",
      "27  1999                   Spain                          Lydia      1    23   \n",
      "40  1999                Portugal                   Rui Bandeira     12    21   \n",
      "38  1999                  Cyprus                        Marlain      2    22   \n",
      "\n",
      "    Prediction error  \n",
      "37          3.585655  \n",
      "45          3.489326  \n",
      "39          3.133596  \n",
      "28          2.932068  \n",
      "43          1.364352  \n",
      "46          0.857532  \n",
      "47          0.781922  \n",
      "35          0.603215  \n",
      "30          0.288784  \n",
      "29          0.175078  \n",
      "42          0.097708  \n",
      "33          0.075726  \n",
      "26         -0.203883  \n",
      "36         -0.878436  \n",
      "34         -0.999088  \n",
      "25         -1.123003  \n",
      "41         -1.294603  \n",
      "32         -1.376376  \n",
      "44         -1.393085  \n",
      "31         -1.443595  \n",
      "27         -1.517495  \n",
      "40         -1.619955  \n",
      "38         -1.881850  \n",
      "    Year         Country                 Artist  Score  Rank  Prediction error\n",
      "61  2000         Denmark         Olsen Brothers    195     1          4.887881\n",
      "56  2000          Russia                  Alsou    155     2          2.860013\n",
      "68  2000          Latvia             Brainstorm    136     3          2.745279\n",
      "51  2000         Estonia                   Ines     98     4          2.008812\n",
      "62  2000         Germany            Stefan Raab     96     5          1.855973\n",
      "70  2000         Ireland            Eamonn Toal     92     6          1.506993\n",
      "54  2000           Malta         Claudette Pace     73     8          1.057194\n",
      "64  2000         Croatia            Goran Karan     70     9          0.435340\n",
      "49  2000     Netherlands      Linda Wagenmakers     40    13         -0.211362\n",
      "50  2000  United Kingdom           Nicki French     28    16         -0.292819\n",
      "55  2000          Norway                Charmed     57    11         -0.305309\n",
      "69  2000          Turkey  P?nar Ayhan?&?The SOS     59    10         -0.420392\n",
      "65  2000          Sweden          Roger Pontare     88     7         -0.458632\n",
      "59  2000         Iceland         August & Telma     45    12         -0.710943\n",
      "66  2000       Macedonia                    XXL     29    15         -0.867330\n",
      "52  2000          France          Sofia Mestari      5    23         -0.939631\n",
      "71  2000         Austria      The Rounder Girls     34    14         -1.048444\n",
      "63  2000     Switzerland           Jane Bogaert     14    20         -1.057309\n",
      "60  2000           Spain         Seraf?n Zubiri     18    18         -1.237409\n",
      "53  2000         Romania                   Taxi     25    17         -1.238591\n",
      "48  2000          Israel               PingPong      7    22         -1.370467\n",
      "58  2000          Cyprus                  Voice      8    21         -1.690206\n",
      "57  2000         Belgium         Nathalie Sorce      2    24         -1.708463\n",
      "67  2000         Finland            Nina �str?m     18    18         -2.089515\n",
      "    Year                 Country                         Artist  Score  Rank  \\\n",
      "91  2001                 Estonia  Tanel Padar,?Dave Benton,?2XL    198     1   \n",
      "85  2001                  France                Natasha St-Pier    142     4   \n",
      "94  2001                 Denmark                   Rollo & King    177     2   \n",
      "93  2001                  Greece                        Antique    147     3   \n",
      "84  2001                   Spain                   David Civera     76     6   \n",
      "78  2001                  Sweden                        Friends    100     5   \n",
      "88  2001                Slovenia                   Nu?a Derenda     70     7   \n",
      "90  2001                 Germany                       Michelle     66     8   \n",
      "79  2001               Lithuania                          SKAMP     35    13   \n",
      "81  2001                 Croatia                          Vanna     42    10   \n",
      "74  2001  Bosnia and Herzegovina                     Nino Pr?e?     29    14   \n",
      "92  2001                   Malta              Fabrizio Faniello     48     9   \n",
      "76  2001                  Israel                     Tal Sondak     25    16   \n",
      "87  2001          United Kingdom                Lindsay Dracass     28    15   \n",
      "86  2001                  Turkey                     Sedat Y�ce     41    11   \n",
      "82  2001                Portugal                            MTM     18    17   \n",
      "72  2001             Netherlands              Michelle Courtens     16    18   \n",
      "80  2001                  Latvia                   Arnis Mednis     16    18   \n",
      "89  2001                  Poland                         Piasek     11    20   \n",
      "83  2001                 Ireland             Gary O'Shaughnessy      6    21   \n",
      "77  2001                  Russia                    Mumiy Troll     37    12   \n",
      "73  2001                 Iceland                     Two Tricky      3    22   \n",
      "75  2001                  Norway                 Haldor L?greid      3    22   \n",
      "\n",
      "    Prediction error  \n",
      "91          5.589514  \n",
      "85          4.134720  \n",
      "94          3.837907  \n",
      "93          1.967149  \n",
      "84          1.211866  \n",
      "78          0.937566  \n",
      "88          0.754186  \n",
      "90          0.294619  \n",
      "79         -0.320980  \n",
      "81         -0.335868  \n",
      "74         -0.525489  \n",
      "92         -0.753961  \n",
      "76         -0.913955  \n",
      "87         -0.916521  \n",
      "86         -0.959801  \n",
      "82         -1.160596  \n",
      "72         -1.290527  \n",
      "80         -1.497414  \n",
      "89         -1.665548  \n",
      "83         -1.705692  \n",
      "77         -1.787815  \n",
      "73         -1.972050  \n",
      "75         -2.475239  \n",
      "     Year                 Country                         Artist  Score  Rank  \\\n",
      "117  2002                  Latvia                        Marie N    176     1   \n",
      "114  2002                   Malta                      Ira Losco    164     2   \n",
      "96   2002          United Kingdom                Jessica Garlick    111     3   \n",
      "111  2002                  France              Sandrine Fran?ois    104     5   \n",
      "102  2002                 Estonia                        Sahlene    111     3   \n",
      "99   2002                   Spain                           Rosa     81     7   \n",
      "95   2002                  Cyprus                            One     85     6   \n",
      "100  2002                 Croatia                Vesna Pisarovi?     44    11   \n",
      "115  2002                 Romania  Monica Anghel\\n&?Marcel Pavel     71     9   \n",
      "106  2002                  Sweden                      Afro-dite     72     8   \n",
      "103  2002               Macedonia                Karolina Go?eva     25    19   \n",
      "105  2002             Switzerland                 Francine Jordi     15    22   \n",
      "104  2002                  Israel                    Sarit Hadad     37    12   \n",
      "109  2002  Bosnia and Herzegovina                     Maja Tati?     33    13   \n",
      "97   2002                 Austria                  Manuel Ortega     26    18   \n",
      "116  2002                Slovenia                         Sestre     33    13   \n",
      "110  2002                 Belgium            Sergio & The Ladies     33    13   \n",
      "101  2002                  Russia                 Prime Minister     55    10   \n",
      "107  2002                 Finland              Laura Voutilainen     24    20   \n",
      "113  2002                  Turkey     Buket Bengisu& Group Safir     29    16   \n",
      "112  2002                 Germany                    Corinna May     17    21   \n",
      "98   2002                  Greece             Michalis Rakintzis     27    17   \n",
      "118  2002               Lithuania                        Aivaras     12    23   \n",
      "108  2002                 Denmark                         Malene      7    24   \n",
      "\n",
      "     Prediction error  \n",
      "117          4.321588  \n",
      "114          4.082986  \n",
      "96           3.088498  \n",
      "111          2.541032  \n",
      "102          2.365028  \n",
      "99           1.849745  \n",
      "95           1.797664  \n",
      "100         -0.031388  \n",
      "115         -0.115095  \n",
      "106         -0.556674  \n",
      "103         -0.576955  \n",
      "105         -0.577417  \n",
      "104         -0.675476  \n",
      "109         -0.787193  \n",
      "97          -0.838306  \n",
      "116         -0.838796  \n",
      "110         -0.923362  \n",
      "101         -0.989477  \n",
      "107         -1.601965  \n",
      "113         -1.621266  \n",
      "112         -1.818789  \n",
      "98          -1.856630  \n",
      "118         -2.181788  \n",
      "108         -2.828820  \n",
      "     Year                 Country              Artist  Score  Rank  \\\n",
      "140  2003                 Belgium          Urban Trad    165     2   \n",
      "122  2003                  Turkey       Sertab Erener    167     1   \n",
      "129  2003                  Russia            t.A.T.u.    164     3   \n",
      "120  2003                 Austria           Alf Poier    101     6   \n",
      "138  2003                  Poland           Ich Troje     90     7   \n",
      "136  2003                  Norway  Jostein Hasselg?rd    123     4   \n",
      "130  2003                   Spain                Beth     81     8   \n",
      "119  2003                 Iceland            Birgitta     81     8   \n",
      "121  2003                 Ireland        Mickey Harte     53    11   \n",
      "142  2003                 Romania              Nicola     73    10   \n",
      "128  2003                 Germany                 Lou     53    11   \n",
      "143  2003                  Sweden                Fame    107     5   \n",
      "126  2003                 Croatia        Claudia Beni     29    15   \n",
      "132  2003             Netherlands         Esther Hart     45    13   \n",
      "124  2003  Bosnia and Herzegovina        Mija Martina     27    16   \n",
      "137  2003                  France     Louisa Ba?leche     19    18   \n",
      "125  2003                Portugal         Rita Guerra     13    22   \n",
      "127  2003                  Cyprus  Stelios Constantas     15    20   \n",
      "131  2003                  Israel         Lior Narkis     17    19   \n",
      "123  2003                   Malta        Lynn Chircop      4    25   \n",
      "133  2003          United Kingdom              Jemini      0    26   \n",
      "144  2003                Slovenia              Karmen      7    23   \n",
      "134  2003                 Ukraine            Olexandr     30    14   \n",
      "141  2003                 Estonia              Ruffus     14    21   \n",
      "135  2003                  Greece               Mando     25    17   \n",
      "139  2003                  Latvia              F.L.Y.      5    24   \n",
      "\n",
      "     Prediction error  \n",
      "140          3.951075  \n",
      "122          3.797347  \n",
      "129          2.715954  \n",
      "120          2.282513  \n",
      "138          1.624741  \n",
      "136          1.422062  \n",
      "130          1.371101  \n",
      "119          1.236614  \n",
      "121          0.724439  \n",
      "142          0.140658  \n",
      "128          0.032442  \n",
      "143         -0.030274  \n",
      "126         -0.450723  \n",
      "132         -0.524109  \n",
      "124         -0.590398  \n",
      "137         -0.940209  \n",
      "125         -1.045280  \n",
      "127         -1.258791  \n",
      "131         -1.426540  \n",
      "123         -1.651395  \n",
      "133         -1.670496  \n",
      "144         -1.832676  \n",
      "134         -2.116922  \n",
      "141         -2.128676  \n",
      "135         -2.501339  \n",
      "139         -2.530842  \n",
      "     Year                 Country                                Artist  \\\n",
      "154  2004                 Ukraine                               Ruslana   \n",
      "160  2004                  Greece                          Sakis Rouvas   \n",
      "166  2004                  Turkey                                Athena   \n",
      "165  2004                  Cyprus                          Lisa Andreas   \n",
      "149  2004   Serbia and Montenegro  ?eljko Joksimovi??& Ad-Hoc Orchestra   \n",
      "145  2004                   Spain                                 Ram?n   \n",
      "153  2004                 Albania                        Anjeza Shahini   \n",
      "152  2004                 Germany                                   Max   \n",
      "168  2004                  Sweden                       Lena Philipsson   \n",
      "156  2004  Bosnia and Herzegovina                                  Deen   \n",
      "148  2004                  France                       Jonatan Cerrada   \n",
      "155  2004                 Croatia                          Ivan Mikuli?   \n",
      "159  2004               Macedonia                          To?e Proeski   \n",
      "150  2004                   Malta                      Julie and Ludwig   \n",
      "163  2004                  Poland                             Blue Caf?   \n",
      "164  2004          United Kingdom                             James Fox   \n",
      "146  2004                 Austria                             Tie Break   \n",
      "151  2004             Netherlands                              Re-Union   \n",
      "162  2004                 Ireland                           Chris Doran   \n",
      "158  2004                  Russia                       Julia Savicheva   \n",
      "157  2004                 Belgium                                Xandee   \n",
      "161  2004                 Iceland                                 J?nsi   \n",
      "147  2004                  Norway                     Knut Anders S?rum   \n",
      "167  2004                 Romania                                 Sanda   \n",
      "\n",
      "     Score  Rank  Prediction error  \n",
      "154    280     1          3.859671  \n",
      "160    252     3          3.415544  \n",
      "166    195     4          2.172204  \n",
      "165    170     5          2.042830  \n",
      "149    263     2          1.717142  \n",
      "145     87    10          0.927403  \n",
      "153    106     7          0.788591  \n",
      "152     93     8          0.696446  \n",
      "168    170     5          0.531297  \n",
      "156     91     9          0.276546  \n",
      "148     40    15         -0.388719  \n",
      "155     50    12         -0.620217  \n",
      "159     47    14         -0.620950  \n",
      "150     50    12         -0.760717  \n",
      "163     27    17         -1.233497  \n",
      "164     29    16         -1.292676  \n",
      "146      9    21         -1.333871  \n",
      "151     11    20         -1.816822  \n",
      "162      7    22         -1.964301  \n",
      "158     67    11         -2.066017  \n",
      "157      7    22         -2.114038  \n",
      "161     16    19         -2.301063  \n",
      "147      3    24         -2.302388  \n",
      "167     18    18         -2.368390  \n",
      "     Year                 Country                             Artist  Score  \\\n",
      "193  2005                   Malta                             Chiara    192   \n",
      "194  2005                 Romania         Lumini?a Anghel?and Sistem    158   \n",
      "209  2005                  Greece                   Helena Paparizou    230   \n",
      "201  2005                  Israel                       Shiri Maimon    154   \n",
      "197  2005                 Moldova                       Zdob ?i Zdub    148   \n",
      "212  2005             Switzerland                      Vanilla Ninja    128   \n",
      "191  2005                 Hungary                                NOX     97   \n",
      "213  2005                  Latvia                  Walters and Kazha    153   \n",
      "195  2005                  Norway                            Wig Wam    125   \n",
      "208  2005                 Croatia  Boris Novkovi??feat.?Lado Members    115   \n",
      "203  2005                 Denmark                    Jakob Sveistrup    125   \n",
      "196  2005                  Turkey                           G�lseren     92   \n",
      "202  2005   Serbia and Montenegro                            No Name    137   \n",
      "211  2005  Bosnia and Herzegovina                           Feminnem     79   \n",
      "205  2005               Macedonia                       Martin Vu?i?     52   \n",
      "198  2005                 Albania                        Ledina ?elo     53   \n",
      "199  2005                  Cyprus          Constantinos Christoforou     46   \n",
      "192  2005          United Kingdom                             Javine     18   \n",
      "200  2005                   Spain                         Son de Sol     28   \n",
      "214  2005                  France                              Ortal     11   \n",
      "207  2005                 Germany                             Gracia      4   \n",
      "210  2005                  Russia                 Natalia Podolskaya     57   \n",
      "206  2005                 Ukraine                         GreenJolly     30   \n",
      "204  2005                  Sweden                   Martin Stenmarck     30   \n",
      "\n",
      "     Rank  Prediction error  \n",
      "193     2          2.995396  \n",
      "194     3          1.877222  \n",
      "209     1          1.813238  \n",
      "201     4          1.699454  \n",
      "197     6          1.540119  \n",
      "212     8          1.037860  \n",
      "191    12          0.884268  \n",
      "213     5          0.875550  \n",
      "195     9          0.753843  \n",
      "208    11          0.299792  \n",
      "203     9          0.073841  \n",
      "196    13         -0.100023  \n",
      "202     7         -0.567911  \n",
      "211    14         -0.592074  \n",
      "205    17         -0.593173  \n",
      "198    16         -0.780158  \n",
      "199    18         -0.842125  \n",
      "192    22         -0.996508  \n",
      "200    21         -1.074349  \n",
      "214    23         -1.567036  \n",
      "207    24         -2.260388  \n",
      "210    15         -2.663343  \n",
      "206    19         -2.800383  \n",
      "204    19         -3.061804  \n",
      "     Year                 Country                            Artist  Score  \\\n",
      "256  2006                 Finland                             Lordi    292   \n",
      "249  2006                  Russia                        Dima Bilan    248   \n",
      "252  2006  Bosnia and Herzegovina                    Hari Mata Hari    229   \n",
      "253  2006               Lithuania                         LT United    162   \n",
      "251  2006                 Romania                  Mihai Tr?istariu    172   \n",
      "261  2006                  Sweden                            Carola    170   \n",
      "260  2006                 Ireland                     Brian Kennedy     93   \n",
      "263  2006                 Armenia                             Andr?    129   \n",
      "257  2006                 Ukraine                        Tina Karol    145   \n",
      "255  2006                  Greece                        Anna Vissi    128   \n",
      "250  2006               Macedonia                    Elena Risteska     56   \n",
      "240  2006             Switzerland                           six4one     30   \n",
      "262  2006                  Turkey                       Sibel T�z�n     91   \n",
      "247  2006                 Germany                   Texas Lightning     36   \n",
      "243  2006                  Latvia                Vocal Group Cosmos     30   \n",
      "241  2006                 Moldova  Arsenium?feat.?Natalia Gordienko     22   \n",
      "245  2006                   Spain                       Las Ketchup     18   \n",
      "254  2006          United Kingdom                       Daz Sampson     25   \n",
      "259  2006                 Croatia                          Severina     56   \n",
      "244  2006                  Norway            Christine Guldbrandsen     36   \n",
      "242  2006                  Israel                      Eddie Butler      4   \n",
      "258  2006                  France                 Virginie Pouchain      5   \n",
      "246  2006                   Malta                 Fabrizio Faniello      1   \n",
      "248  2006                 Denmark                Sidsel Ben Semmane     26   \n",
      "\n",
      "     Rank  Prediction error  \n",
      "256     1          4.953328  \n",
      "249     2          2.575403  \n",
      "252     3          2.492846  \n",
      "253     6          2.087138  \n",
      "251     4          1.897374  \n",
      "261     5          0.257341  \n",
      "260    10          0.240500  \n",
      "263     8          0.135956  \n",
      "257     7          0.107804  \n",
      "255     9         -0.195904  \n",
      "250    12         -0.326152  \n",
      "240    16         -0.351734  \n",
      "262    11         -0.571996  \n",
      "247    14         -0.895536  \n",
      "243    17         -0.944078  \n",
      "241    20         -0.998694  \n",
      "245    21         -1.064694  \n",
      "254    19         -1.127901  \n",
      "259    12         -1.212528  \n",
      "244    14         -1.232353  \n",
      "242    23         -1.653354  \n",
      "258    22         -1.725297  \n",
      "246    24         -2.108283  \n",
      "248    18         -2.160299  \n",
      "     Year                 Country                                Artist  \\\n",
      "331  2007                  Serbia                      Marija ?erifovi?   \n",
      "332  2007                 Ukraine                       Verka Serduchka   \n",
      "317  2007                 Belarus                         Dmitry Koldun   \n",
      "329  2007                  Russia                               Serebro   \n",
      "335  2007                Bulgaria  Elitsa Todorova?and?Stoyan Yankoulov   \n",
      "322  2007                 Hungary                           Magdi R?zsa   \n",
      "336  2007                  Turkey                          Kenan Do?ulu   \n",
      "320  2007               Macedonia                              Karolina   \n",
      "321  2007                Slovenia                          Alenka Gotar   \n",
      "324  2007                  Greece                                Sarbel   \n",
      "315  2007  Bosnia and Herzegovina                                 Maria   \n",
      "316  2007                   Spain                                D'NASH   \n",
      "338  2007                 Moldova                         Natalia Barbu   \n",
      "337  2007                 Armenia                                 Hayko   \n",
      "325  2007                 Georgia                                 Sopho   \n",
      "334  2007                 Romania                             Todomondo   \n",
      "319  2007                 Finland                                 Hanna   \n",
      "330  2007                 Germany                          Roger Cicero   \n",
      "328  2007                  Latvia                          Bonaparti.lv   \n",
      "323  2007               Lithuania                                  4Fun   \n",
      "318  2007                 Ireland                               Dervish   \n",
      "327  2007                  France                    Les Fatals Picards   \n",
      "333  2007          United Kingdom                                Scooch   \n",
      "326  2007                  Sweden                               The Ark   \n",
      "\n",
      "     Score  Rank  Prediction error  \n",
      "331    268     1          2.175183  \n",
      "332    235     2          1.637224  \n",
      "317    145     6          1.566451  \n",
      "329    207     3          1.088514  \n",
      "335    157     5          0.996901  \n",
      "322    128     9          0.942598  \n",
      "336    163     4          0.618555  \n",
      "320     73    14          0.133234  \n",
      "321     66    15         -0.078506  \n",
      "324    139     7         -0.223451  \n",
      "315    106    11         -0.235048  \n",
      "316     43    20         -0.363669  \n",
      "338    109    10         -0.376714  \n",
      "337    138     8         -0.647386  \n",
      "325     97    12         -0.713089  \n",
      "334     84    13         -0.782666  \n",
      "319     53    17         -0.828790  \n",
      "330     49    19         -0.975276  \n",
      "328     54    16         -1.021944  \n",
      "323     28    21         -1.197425  \n",
      "318      5    24         -1.224403  \n",
      "327     19    22         -1.439344  \n",
      "333     19    23         -1.498039  \n",
      "326     51    18         -2.395340  \n",
      "     Year                 Country                             Artist  Score  \\\n",
      "400  2008                  Russia                         Dima Bilan    272   \n",
      "394  2008                 Ukraine                          Ani Lorak    230   \n",
      "381  2008                 Armenia                            Sirusho    199   \n",
      "397  2008                  Greece                           Kalomira    218   \n",
      "383  2008                  Israel                        Boaz Ma'uda    124   \n",
      "388  2008                  Turkey                       Mor ve ?tesi    138   \n",
      "401  2008                  Norway              Maria Haukaas Storeng    182   \n",
      "382  2008  Bosnia and Herzegovina                               Laka    110   \n",
      "389  2008                Portugal                    V?nia Fernandes     69   \n",
      "396  2008              Azerbaijan                    Elnur?and?Samir    132   \n",
      "390  2008                  Latvia                 Pirates of the Sea     83   \n",
      "399  2008                  Serbia  Jelena Toma?evi??feat.?Bora Dugi?    160   \n",
      "379  2008                 Albania                          Olta Boka     55   \n",
      "385  2008                 Croatia        Kraljevi Ulice?and?75 cents     44   \n",
      "398  2008                   Spain              Rodolfo Chikilicuatre     55   \n",
      "377  2008                 Romania                      Nico?and?Vlad     45   \n",
      "378  2008          United Kingdom                       Andy Abraham     14   \n",
      "387  2008                 Iceland                           Euroband     64   \n",
      "395  2008                  France                  S?bastien Tellier     47   \n",
      "384  2008                 Finland                        Ter?sbetoni     35   \n",
      "393  2008                 Georgia                    Diana Gurtskaya     83   \n",
      "380  2008                 Germany                          No Angels     14   \n",
      "386  2008                  Poland                           Isis Gee     14   \n",
      "392  2008                 Denmark                       Simon Mathew     60   \n",
      "391  2008                  Sweden                 Charlotte Perrelli     47   \n",
      "\n",
      "     Rank  Prediction error  \n",
      "400     1          2.261599  \n",
      "394     2          1.705319  \n",
      "381     4          1.370154  \n",
      "397     3          1.059361  \n",
      "383     9          0.992243  \n",
      "388     7          0.805243  \n",
      "401     5          0.764940  \n",
      "382    10          0.148011  \n",
      "389    13         -0.332556  \n",
      "396     8         -0.420966  \n",
      "390    12         -0.437449  \n",
      "399     6         -0.463538  \n",
      "379    17         -0.574809  \n",
      "385    21         -0.740626  \n",
      "398    16         -0.897977  \n",
      "377    20         -0.914174  \n",
      "378    25         -0.953036  \n",
      "387    14         -0.990232  \n",
      "395    19         -1.002304  \n",
      "384    22         -1.026547  \n",
      "393    11         -1.086274  \n",
      "380    23         -1.207879  \n",
      "386    24         -1.302394  \n",
      "392    15         -1.622135  \n",
      "391    18         -2.658598  \n",
      "     Year                 Country                      Artist  Score  Rank  \\\n",
      "458  2009                  Norway             Alexander Rybak    387     1   \n",
      "445  2009                 Iceland                 Yohanna[68]    218     2   \n",
      "461  2009          United Kingdom                   Jade Ewen    173     5   \n",
      "441  2009                  France               Patricia Kaas    107     8   \n",
      "449  2009              Azerbaijan          AySel?andArash[73]    207     3   \n",
      "456  2009                  Turkey                      Hadise    177     4   \n",
      "453  2009                 Estonia              Urban Symphony    129     6   \n",
      "444  2009                Portugal                 Flor-de-Lis     57    15   \n",
      "440  2009                  Israel           Noa?and?Mira Awad     53    16   \n",
      "450  2009  Bosnia and Herzegovina                      Regina    106     9   \n",
      "443  2009                 Croatia     Igor Cukrovfeat.?Andrea     45    18   \n",
      "446  2009                  Greece                Sakis Rouvas    120     7   \n",
      "447  2009                 Armenia              Inga and Anush     92    10   \n",
      "454  2009                 Denmark                Niels Brinck     74    13   \n",
      "451  2009                 Moldova               Nelly Ciobanu     69    14   \n",
      "439  2009               Lithuania                   Sasha Son     23    23   \n",
      "452  2009                   Malta                      Chiara     31    22   \n",
      "455  2009                 Germany  Alex?SwingsOscarSings![74]     35    20   \n",
      "457  2009                 Albania                  Kejsi Tola     48    17   \n",
      "448  2009                  Russia        Anastasiya Prikhodko     91    11   \n",
      "463  2009                   Spain              Soraya Arnelas     23    24   \n",
      "460  2009                 Romania                       Elena     40    19   \n",
      "459  2009                 Ukraine             Svetlana Loboda     76    12   \n",
      "462  2009                 Finland              Waldo's People     22    25   \n",
      "442  2009                  Sweden               Malena Ernman     33    21   \n",
      "\n",
      "     Prediction error  \n",
      "458          3.713978  \n",
      "445          2.971953  \n",
      "461          1.901587  \n",
      "441          1.429576  \n",
      "449          0.970907  \n",
      "456          0.936621  \n",
      "453          0.837424  \n",
      "444          0.458979  \n",
      "440          0.200928  \n",
      "450          0.080188  \n",
      "443          0.016633  \n",
      "446         -0.312943  \n",
      "447         -0.413299  \n",
      "454         -0.593259  \n",
      "451         -0.802118  \n",
      "439         -0.913177  \n",
      "452         -0.964513  \n",
      "455         -1.427131  \n",
      "457         -1.461015  \n",
      "448         -1.538146  \n",
      "463         -1.601964  \n",
      "460         -1.673294  \n",
      "459         -1.833980  \n",
      "462         -1.989346  \n",
      "442         -2.315945  \n",
      "     Year                 Country                                     Artist  \\\n",
      "504  2010                 Belgium                           Tom Dice[72][73]   \n",
      "516  2010                 Romania             Paula Seling?and?Ovi[104][105]   \n",
      "519  2010                 Germany                             Lena[125][126]   \n",
      "511  2010                  Turkey                                 maNga[117]   \n",
      "498  2010              Azerbaijan                             Safura[98][99]   \n",
      "508  2010                  Greece        Giorgos Alkaios?and?Friends[77][78]   \n",
      "510  2010                 Georgia                 Sofia Nizharadze[115][116]   \n",
      "499  2010                   Spain                     Daniel Diges[118][119]   \n",
      "515  2010                  France                         Jessy Matador[124]   \n",
      "522  2010                 Denmark             Chan?e?and?N'evergreen[93][94]   \n",
      "518  2010                 Armenia                          Eva Rivas[89][90]   \n",
      "514  2010                 Ukraine                          Alyosha[100][101]   \n",
      "521  2010                  Israel                        Harel Skaat[91][92]   \n",
      "502  2010                  Cyprus  Jon Lilygreen?and?The Islanders[111][112]   \n",
      "503  2010  Bosnia and Herzegovina                         Vuka?in Braji?[69]   \n",
      "520  2010                Portugal                     Filipa Azevedo[79][80]   \n",
      "507  2010                 Ireland                   Niamh Kavanagh[108][109]   \n",
      "506  2010                 Belarus              3+2?feat?Robert Wells[83][84]   \n",
      "500  2010                  Norway              Didrik Solli-Tangen[120][121]   \n",
      "512  2010                 Albania                          Juliana Pasha[76]   \n",
      "509  2010          United Kingdom                     Josh Dubovie[122][123]   \n",
      "517  2010                  Russia          Peter Nalitch and Friends[57][58]   \n",
      "513  2010                 Iceland                         Hera Bj?rk[85][86]   \n",
      "505  2010                  Serbia                    Milan Stankovi?[67][68]   \n",
      "501  2010                 Moldova    SunStroke Project?and?Olia Tira[55][56]   \n",
      "\n",
      "     Score  Rank  Prediction error  \n",
      "504    143     6          2.146157  \n",
      "516    162     3          1.601142  \n",
      "519    246     1          1.584404  \n",
      "511    170     2          1.404803  \n",
      "498    145     5          1.177594  \n",
      "508    140     8          1.015789  \n",
      "510    136     9          0.719444  \n",
      "499     68    15          0.522858  \n",
      "515     82    12          0.476516  \n",
      "522    149     4          0.366280  \n",
      "518    141     7          0.365935  \n",
      "514    108    10          0.203180  \n",
      "521     71    14         -0.012138  \n",
      "502     27    21         -0.318069  \n",
      "503     51    17         -0.530482  \n",
      "520     43    18         -0.557033  \n",
      "507     25    23         -0.612026  \n",
      "506     18    24         -0.627111  \n",
      "500     35    20         -0.713613  \n",
      "512     62    16         -0.724426  \n",
      "509     10    25         -0.888009  \n",
      "517     90    11         -0.935227  \n",
      "513     41    19         -0.936629  \n",
      "505     72    13         -1.245882  \n",
      "501     27    22         -1.432849  \n",
      "     Year                 Country                            Artist  Score  \\\n",
      "572  2011                   Italy                  Raphael Gualazzi    189   \n",
      "579  2011              Azerbaijan                       Ell & Nikki    221   \n",
      "562  2011  Bosnia and Herzegovina                       Dino Merlin    125   \n",
      "566  2011                 Ireland                           Jedward    119   \n",
      "563  2011                 Denmark                A Friend in London    134   \n",
      "574  2011          United Kingdom                              Blue    100   \n",
      "580  2011                Slovenia                         Maja Keuc     96   \n",
      "576  2011                 Germany                              Lena    107   \n",
      "575  2011                 Moldova                      Zdob ?i Zdub     97   \n",
      "567  2011                  Sweden                        Eric Saade    185   \n",
      "564  2011               Lithuania                   Evelina Sa?enko     63   \n",
      "583  2011                 Ukraine                       Mika Newton    159   \n",
      "571  2011                  France                    Amaury Vassili     82   \n",
      "585  2011                 Georgia                           Eldrine    110   \n",
      "565  2011                 Hungary                         Kati Wolf     53   \n",
      "577  2011                 Romania                          Hotel FM     77   \n",
      "569  2011                  Greece  Loukas Giorkas?feat.?Stereo Mike    120   \n",
      "561  2011                 Finland                    Paradise Oskar     57   \n",
      "581  2011                 Iceland                  Sjonni's Friends     61   \n",
      "582  2011                   Spain                       Luc?a P?rez     50   \n",
      "573  2011             Switzerland                   Anna Rossinelli     19   \n",
      "578  2011                 Austria                     Nadine Beiler     64   \n",
      "584  2011                  Serbia                              Nina     85   \n",
      "568  2011                 Estonia                      Getter Jaani     44   \n",
      "570  2011                  Russia                   Alexey Vorobyov     77   \n",
      "\n",
      "     Rank  Prediction error  \n",
      "572     2          1.585388  \n",
      "579     1          1.558538  \n",
      "562     6          1.138366  \n",
      "566     8          0.967471  \n",
      "563     5          0.881910  \n",
      "574    11          0.614695  \n",
      "580    13          0.248334  \n",
      "576    10          0.240683  \n",
      "575    12          0.238813  \n",
      "567     3          0.187479  \n",
      "564    19          0.141490  \n",
      "583     4          0.098315  \n",
      "571    15         -0.019671  \n",
      "585     9         -0.209031  \n",
      "565    22         -0.329329  \n",
      "577    17         -0.416213  \n",
      "569     7         -0.417132  \n",
      "561    21         -0.537839  \n",
      "581    20         -0.807112  \n",
      "582    23         -1.006614  \n",
      "573    25         -1.024030  \n",
      "578    18         -1.036569  \n",
      "584    14         -1.066950  \n",
      "568    24         -1.264092  \n",
      "570    16         -1.939693  \n",
      "     Year                 Country                  Artist  Score  Rank  \\\n",
      "638  2012                  Sweden                  Loreen    372     1   \n",
      "624  2012                 Albania            Rona Nishliu    146     5   \n",
      "627  2012                  Russia   Buranovskiye Babushki    259     2   \n",
      "632  2012                 Estonia             Ott Lepland    120     6   \n",
      "645  2012                  Serbia       ?eljko Joksimovi?    214     3   \n",
      "634  2012              Azerbaijan         Sabina Babayeva    150     4   \n",
      "625  2012               Lithuania           Donny Montell     70    14   \n",
      "640  2012                   Spain           Pastora Soler     97    10   \n",
      "631  2012                   Italy              Nina Zilli    101     9   \n",
      "641  2012                 Germany               Roman Lob    110     8   \n",
      "643  2012               Macedonia                 Kaliopi     71    13   \n",
      "647  2012                 Moldova           Pasha Parfeny     81    11   \n",
      "623  2012                 Hungary           Compact Disco     19    24   \n",
      "630  2012                  France                  Anggun     21    22   \n",
      "639  2012                  Turkey              Can Bonomo    112     7   \n",
      "626  2012  Bosnia and Herzegovina                Maya Sar     55    18   \n",
      "635  2012                 Romania                Mandinga     71    12   \n",
      "644  2012                 Ireland                 Jedward     46    19   \n",
      "628  2012                 Iceland  Gr?ta Sal�me�and�J�nsi     46    20   \n",
      "642  2012                   Malta            Kurt Calleja     41    21   \n",
      "622  2012          United Kingdom   Engelbert Humperdinck     12    25   \n",
      "646  2012                 Ukraine                 Gaitana     65    15   \n",
      "629  2012                  Cyprus              Ivi Adamou     65    16   \n",
      "637  2012                  Greece  Eleftheria Eleftheriou     64    17   \n",
      "636  2012                 Denmark            Soluna Samay     21    23   \n",
      "633  2012                  Norway                   Tooji      7    26   \n",
      "\n",
      "     Prediction error  \n",
      "638          2.841683  \n",
      "624          1.695813  \n",
      "627          1.278797  \n",
      "632          1.084103  \n",
      "645          0.937128  \n",
      "634          0.633393  \n",
      "625          0.533339  \n",
      "640          0.316723  \n",
      "631          0.240400  \n",
      "641          0.112688  \n",
      "643         -0.056206  \n",
      "647         -0.172332  \n",
      "623         -0.359254  \n",
      "630         -0.407096  \n",
      "639         -0.427714  \n",
      "626         -0.562577  \n",
      "635         -0.720432  \n",
      "644         -0.804205  \n",
      "628         -0.932745  \n",
      "642         -0.957077  \n",
      "622         -1.016919  \n",
      "646         -1.043596  \n",
      "629         -1.248262  \n",
      "637         -1.668046  \n",
      "636         -1.671304  \n",
      "633         -2.026829  \n",
      "     Year         Country                               Artist  Score  Rank  \\\n",
      "700  2013      Azerbaijan                       Farid Mammadov    234     2   \n",
      "704  2013          Norway                      Margaret Berger    191     4   \n",
      "689  2013           Malta                             Gianluca    120     8   \n",
      "698  2013         Denmark                    Emmelie de Forest    281     1   \n",
      "702  2013         Ukraine                       Zlata Ognevich    214     3   \n",
      "693  2013     Netherlands                                Anouk    114     9   \n",
      "690  2013          Russia                        Dina Garipova    174     5   \n",
      "683  2013         Moldova                          Aliona Moon     71    11   \n",
      "697  2013         Hungary                              ByeAlex     84    10   \n",
      "688  2013         Belarus                      Alyona Lanskaya     48    16   \n",
      "686  2013         Belgium                    Roberto Bellarosa     71    12   \n",
      "701  2013          Greece  Koza Mostra�feat.�Agathon Iakovidis    152     6   \n",
      "703  2013           Italy                        Marco Mengoni    126     7   \n",
      "681  2013          France                   Amandine Bourgeois     14    23   \n",
      "685  2013           Spain                                 ESDM      8    25   \n",
      "694  2013         Romania                                Cezar     65    13   \n",
      "699  2013         Iceland                          Eythor Ingi     47    17   \n",
      "687  2013         Estonia                               Birgit     19    20   \n",
      "682  2013       Lithuania                      Andrius Pojavis     17    22   \n",
      "692  2013         Armenia                              Dorians     41    18   \n",
      "684  2013         Finland                     Krista Siegfrids     13    24   \n",
      "705  2013         Georgia  Nodi Tatishvili�and�Sophie Gelovani     50    15   \n",
      "695  2013  United Kingdom                         Bonnie Tyler     23    19   \n",
      "706  2013         Ireland                           Ryan Dolan      5    26   \n",
      "691  2013         Germany                              Cascada     18    21   \n",
      "696  2013          Sweden                     Robin Stjernberg     62    14   \n",
      "\n",
      "     Prediction error  \n",
      "700          1.659399  \n",
      "704          1.355741  \n",
      "689          1.213128  \n",
      "698          1.068724  \n",
      "702          0.918361  \n",
      "693          0.846382  \n",
      "690          0.693968  \n",
      "683          0.608589  \n",
      "697          0.500676  \n",
      "688          0.031124  \n",
      "686         -0.012010  \n",
      "701         -0.057949  \n",
      "703         -0.178350  \n",
      "681         -0.365049  \n",
      "685         -0.429785  \n",
      "694         -0.439998  \n",
      "699         -0.749077  \n",
      "687         -0.831987  \n",
      "682         -0.875224  \n",
      "692         -0.886014  \n",
      "684         -0.924075  \n",
      "705         -1.016419  \n",
      "695         -1.143830  \n",
      "706         -1.194695  \n",
      "691         -1.510301  \n",
      "696         -2.168191  \n",
      "     Year         Country                          Artist  Score  Rank  \\\n",
      "748  2014         Austria                  Conchita Wurst    290     1   \n",
      "761  2014     Netherlands              The Common Linnets    238     2   \n",
      "750  2014          Sweden                   Sanna Nielsen    218     3   \n",
      "758  2014         Hungary          Andr�s K�llay-Saunders    143     5   \n",
      "744  2014         Armenia                        Aram MP3    174     4   \n",
      "741  2014         Iceland                       Pollap?nk     58    15   \n",
      "742  2014          Norway                      Carl Espen     88     8   \n",
      "757  2014     Switzerland                        Sebalter     64    13   \n",
      "743  2014         Romania              Paula Seling�&�Ovi     72    12   \n",
      "756  2014           Spain                    Ruth Lorenzo     74    10   \n",
      "738  2014         Ukraine                Mariya Yaremchuk    113     6   \n",
      "749  2014         Germany                          Elaiza     39    18   \n",
      "739  2014         Belarus                             Teo     43    16   \n",
      "746  2014          Poland                  Donatan�&�Cleo     62    14   \n",
      "745  2014      Montenegro                 Sergej ?etkovi?     37    19   \n",
      "762  2014      San Marino               Valentina Monetta     14    24   \n",
      "755  2014         Finland                      Softengine     72    11   \n",
      "754  2014        Slovenia                   Tinkara Kova?      9    25   \n",
      "763  2014  United Kingdom                           Molly     40    17   \n",
      "759  2014           Malta                       Firelight     32    23   \n",
      "760  2014         Denmark                           Basim     74     9   \n",
      "747  2014          Greece  Freaky Fortune�feat.�RiskyKidd     35    20   \n",
      "752  2014          Russia              Tolmachevy Sisters     89     7   \n",
      "751  2014          France                       TWIN TWIN      2    26   \n",
      "740  2014      Azerbaijan                 Dilara Kazimova     33    22   \n",
      "753  2014           Italy                            Emma     33    21   \n",
      "\n",
      "     Prediction error  \n",
      "748          5.592036  \n",
      "761          3.633500  \n",
      "750          1.691227  \n",
      "758          1.292184  \n",
      "744          0.411597  \n",
      "741          0.328295  \n",
      "742          0.214344  \n",
      "757          0.158476  \n",
      "743          0.123248  \n",
      "756         -0.015945  \n",
      "738         -0.052816  \n",
      "749         -0.182396  \n",
      "739         -0.223439  \n",
      "746         -0.266813  \n",
      "745         -0.312380  \n",
      "762         -0.459564  \n",
      "755         -0.479792  \n",
      "754         -0.905785  \n",
      "763         -0.987203  \n",
      "759         -0.999209  \n",
      "760         -1.212389  \n",
      "747         -1.292890  \n",
      "752         -1.369603  \n",
      "751         -1.377111  \n",
      "740         -1.427114  \n",
      "753         -2.092296  \n",
      "     Year         Country                           Artist  Score  Rank  \\\n",
      "806  2015          Sweden                   M?ns Zelmerl?w    365     1   \n",
      "823  2015           Italy                          Il Volo    292     3   \n",
      "809  2015         Belgium                      Lo?c Nottet    217     4   \n",
      "808  2015       Australia                    Guy Sebastian    196     5   \n",
      "815  2015          Latvia                          Aminata    186     6   \n",
      "821  2015          Russia                  Polina Gagarina    303     2   \n",
      "800  2015         Estonia          Elina Born�&�Stig R?sta    106     7   \n",
      "799  2015          Israel                      Nadav Guedj     97     9   \n",
      "797  2015        Slovenia                          Maraaya     39    14   \n",
      "804  2015          Serbia                  Bojana Stamenov     53    10   \n",
      "805  2015          Norway        M?rland�&�Debrah Scarlett    102     8   \n",
      "812  2015      Montenegro                             Knez     44    13   \n",
      "798  2015          France                      Lisa Angell      4    25   \n",
      "803  2015       Lithuania  Monika Linkyt?�&�Vaidas Baumila     30    18   \n",
      "814  2015          Poland                 Monika Kuszy?ska     10    23   \n",
      "807  2015          Cyprus                 John Karayiannis     11    22   \n",
      "816  2015         Romania                           Voltaj     35    15   \n",
      "801  2015  United Kingdom                   Electro Velvet      5    24   \n",
      "818  2015         Hungary                           Boggie     19    20   \n",
      "810  2015         Austria                    The Makemakes      0    26   \n",
      "802  2015         Armenia                        Genealogy     34    16   \n",
      "817  2015           Spain                           Edurne     15    21   \n",
      "822  2015         Albania                     Elhaida Dani     34    17   \n",
      "811  2015          Greece             Maria Elena Kyriakou     23    19   \n",
      "819  2015         Georgia                    Nina Sublatti     51    11   \n",
      "813  2015         Germany                       Ann Sophie      0    27   \n",
      "820  2015      Azerbaijan                   Elnur Huseynov     49    12   \n",
      "\n",
      "     Prediction error  \n",
      "806          4.923672  \n",
      "823          3.870334  \n",
      "809          3.109149  \n",
      "808          2.766793  \n",
      "815          2.341424  \n",
      "821          1.448594  \n",
      "800          1.278460  \n",
      "799          0.785197  \n",
      "797          0.403584  \n",
      "804          0.147939  \n",
      "805          0.099064  \n",
      "812         -0.158974  \n",
      "798         -0.176658  \n",
      "803         -0.585905  \n",
      "814         -0.912451  \n",
      "807         -1.041056  \n",
      "816         -1.136975  \n",
      "801         -1.174343  \n",
      "818         -1.304560  \n",
      "810         -1.331395  \n",
      "802         -1.490412  \n",
      "817         -1.587925  \n",
      "822         -1.600824  \n",
      "811         -1.674752  \n",
      "819         -1.698671  \n",
      "813         -1.908301  \n",
      "820         -2.745473  \n"
     ]
    }
   ],
   "source": [
    "for y in range(1998,2016):\n",
    "    print data[(data['Final']==1) & (data['Year']==y)].sort_values(['Prediction error'],ascending=False)[['Year','Country','Artist','Score','Rank','Prediction error']]"
   ]
  },
  {
   "cell_type": "code",
   "execution_count": 111,
   "metadata": {
    "collapsed": false
   },
   "outputs": [
    {
     "name": "stdout",
     "output_type": "stream",
     "text": [
      "    Year         Country              Artist  Rank\n",
      "18  1998          Sweden        Jill Johnson    10\n",
      "21  1998          Norway     Lars Fredriksen     8\n",
      "23  1998          Turkey              T�zmen    14\n",
      "22  1998         Estonia          Koit Toome    12\n",
      "17  1998     Netherlands             Edsilia     4\n",
      "1   1998          Greece            Thalassa    20\n",
      "14  1998         Romania     M?lina Olinescu    22\n",
      "20  1998         Finland                Edea    15\n",
      "9   1998           Malta              Chiara     3\n",
      "19  1998         Belgium        M?lanie Cohl     6\n",
      "24  1998       Macedonia      Vlado Janevski    19\n",
      "10  1998         Hungary             Charlie    23\n",
      "0   1998         Croatia            Danijela     5\n",
      "12  1998         Ireland         Dawn Martin     9\n",
      "7   1998          Israel  Dana International     1\n",
      "15  1998  United Kingdom              Imaani     2\n",
      "16  1998          Cyprus   Michael Hajiyanni    11\n",
      "13  1998        Portugal           Alma Lusa    12\n",
      "8   1998         Germany         Guildo Horn     7\n",
      "11  1998        Slovenia         Vili Resnik    18\n",
      "3   1998           Spain        Mikel Herzog    16\n",
      "6   1998          Poland             Sixteen    17\n",
      "5   1998        Slovakia   Katar?na Hasprov�    21\n",
      "2   1998          France          Marie Line    24\n",
      "4   1998     Switzerland              Gunvor    25\n",
      "    Year                 Country                         Artist  Rank\n",
      "39  1999                  Sweden              Charlotte Nilsson     1\n",
      "47  1999                 Estonia        Evelin Samuel?&?Camille     6\n",
      "33  1999                 Denmark  Trine Jepsen?&?Michael Teschl     8\n",
      "32  1999                  Norway                  Stig Van Eijk    14\n",
      "46  1999  Bosnia and Herzegovina                Dino?&?B?atrice     7\n",
      "44  1999                   Malta                    Times Three    15\n",
      "37  1999                 Iceland                          Selma     2\n",
      "42  1999                 Austria                  Bobbie Singer    10\n",
      "43  1999                  Israel                           Eden     5\n",
      "45  1999                 Germany                        S�rpriz     3\n",
      "35  1999             Netherlands                       Marlayne     8\n",
      "31  1999                  Turkey       Tu?ba ?nal?&?Grup Mistik    16\n",
      "28  1999                 Croatia                 Doris Dragovi?     4\n",
      "40  1999                Portugal                   Rui Bandeira    21\n",
      "41  1999                 Ireland                    The Mullans    17\n",
      "38  1999                  Cyprus                        Marlain    22\n",
      "30  1999                Slovenia                  Darja ?vajger    11\n",
      "26  1999                 Belgium               Vanessa Chinitor    12\n",
      "25  1999               Lithuania                          Aist?    20\n",
      "36  1999                  Poland              Mietek Szcze?niak    18\n",
      "34  1999                  France                          Nayah    19\n",
      "27  1999                   Spain                          Lydia    23\n",
      "29  1999          United Kingdom                       Precious    12\n",
      "    Year         Country                 Artist  Rank\n",
      "65  2000          Sweden          Roger Pontare     7\n",
      "56  2000          Russia                  Alsou     2\n",
      "61  2000         Denmark         Olsen Brothers     1\n",
      "68  2000          Latvia             Brainstorm     3\n",
      "69  2000          Turkey  P?nar Ayhan?&?The SOS    10\n",
      "67  2000         Finland            Nina �str?m    18\n",
      "55  2000          Norway                Charmed    11\n",
      "59  2000         Iceland         August & Telma    12\n",
      "64  2000         Croatia            Goran Karan     9\n",
      "71  2000         Austria      The Rounder Girls    14\n",
      "70  2000         Ireland            Eamonn Toal     6\n",
      "53  2000         Romania                   Taxi    17\n",
      "62  2000         Germany            Stefan Raab     5\n",
      "66  2000       Macedonia                    XXL    15\n",
      "51  2000         Estonia                   Ines     4\n",
      "58  2000          Cyprus                  Voice    21\n",
      "60  2000           Spain         Seraf?n Zubiri    18\n",
      "54  2000           Malta         Claudette Pace     8\n",
      "49  2000     Netherlands      Linda Wagenmakers    13\n",
      "57  2000         Belgium         Nathalie Sorce    24\n",
      "48  2000          Israel               PingPong    22\n",
      "63  2000     Switzerland           Jane Bogaert    20\n",
      "50  2000  United Kingdom           Nicki French    16\n",
      "52  2000          France          Sofia Mestari    23\n",
      "    Year                 Country                         Artist  Rank\n",
      "93  2001                  Greece                        Antique     3\n",
      "94  2001                 Denmark                   Rollo & King     2\n",
      "78  2001                  Sweden                        Friends     5\n",
      "77  2001                  Russia                    Mumiy Troll    12\n",
      "91  2001                 Estonia  Tanel Padar,?Dave Benton,?2XL     1\n",
      "92  2001                   Malta              Fabrizio Faniello     9\n",
      "86  2001                  Turkey                     Sedat Y�ce    11\n",
      "75  2001                  Norway                 Haldor L?greid    22\n",
      "90  2001                 Germany                       Michelle     8\n",
      "88  2001                Slovenia                   Nu?a Derenda     7\n",
      "80  2001                  Latvia                   Arnis Mednis    18\n",
      "81  2001                 Croatia                          Vanna    10\n",
      "89  2001                  Poland                         Piasek    20\n",
      "87  2001          United Kingdom                Lindsay Dracass    15\n",
      "73  2001                 Iceland                     Two Tricky    22\n",
      "84  2001                   Spain                   David Civera     6\n",
      "85  2001                  France                Natasha St-Pier     4\n",
      "76  2001                  Israel                     Tal Sondak    16\n",
      "72  2001             Netherlands              Michelle Courtens    18\n",
      "83  2001                 Ireland             Gary O'Shaughnessy    21\n",
      "82  2001                Portugal                            MTM    17\n",
      "79  2001               Lithuania                          SKAMP    13\n",
      "74  2001  Bosnia and Herzegovina                     Nino Pr?e?    14\n",
      "     Year                 Country                         Artist  Rank\n",
      "106  2002                  Sweden                      Afro-dite     8\n",
      "101  2002                  Russia                 Prime Minister    10\n",
      "108  2002                 Denmark                         Malene    24\n",
      "115  2002                 Romania  Monica Anghel\\n&?Marcel Pavel     9\n",
      "117  2002                  Latvia                        Marie N     1\n",
      "98   2002                  Greece             Michalis Rakintzis    17\n",
      "113  2002                  Turkey     Buket Bengisu& Group Safir    16\n",
      "114  2002                   Malta                      Ira Losco     2\n",
      "118  2002               Lithuania                        Aivaras    23\n",
      "107  2002                 Finland              Laura Voutilainen    20\n",
      "112  2002                 Germany                    Corinna May    21\n",
      "110  2002                 Belgium            Sergio & The Ladies    13\n",
      "102  2002                 Estonia                        Sahlene     3\n",
      "104  2002                  Israel                    Sarit Hadad    12\n",
      "116  2002                Slovenia                         Sestre    13\n",
      "109  2002  Bosnia and Herzegovina                     Maja Tati?    13\n",
      "97   2002                 Austria                  Manuel Ortega    18\n",
      "100  2002                 Croatia                Vesna Pisarovi?    11\n",
      "111  2002                  France              Sandrine Fran?ois     5\n",
      "95   2002                  Cyprus                            One     6\n",
      "103  2002               Macedonia                Karolina Go?eva    19\n",
      "96   2002          United Kingdom                Jessica Garlick     3\n",
      "99   2002                   Spain                           Rosa     7\n",
      "105  2002             Switzerland                 Francine Jordi    22\n",
      "     Year                 Country              Artist  Rank\n",
      "143  2003                  Sweden                Fame     5\n",
      "129  2003                  Russia            t.A.T.u.     3\n",
      "135  2003                  Greece               Mando    17\n",
      "136  2003                  Norway  Jostein Hasselg?rd     4\n",
      "134  2003                 Ukraine            Olexandr    14\n",
      "139  2003                  Latvia              F.L.Y.    24\n",
      "141  2003                 Estonia              Ruffus    21\n",
      "142  2003                 Romania              Nicola    10\n",
      "122  2003                  Turkey       Sertab Erener     1\n",
      "140  2003                 Belgium          Urban Trad     2\n",
      "132  2003             Netherlands         Esther Hart    13\n",
      "144  2003                Slovenia              Karmen    23\n",
      "131  2003                  Israel         Lior Narkis    19\n",
      "128  2003                 Germany                 Lou    11\n",
      "119  2003                 Iceland            Birgitta     8\n",
      "138  2003                  Poland           Ich Troje     7\n",
      "127  2003                  Cyprus  Stelios Constantas    20\n",
      "123  2003                   Malta        Lynn Chircop    25\n",
      "130  2003                   Spain                Beth     8\n",
      "137  2003                  France     Louisa Ba?leche    18\n",
      "133  2003          United Kingdom              Jemini    26\n",
      "124  2003  Bosnia and Herzegovina        Mija Martina    16\n",
      "120  2003                 Austria           Alf Poier     6\n",
      "126  2003                 Croatia        Claudia Beni    15\n",
      "125  2003                Portugal         Rita Guerra    22\n",
      "121  2003                 Ireland        Mickey Harte    11\n",
      "     Year                 Country                                Artist  Rank\n",
      "149  2004   Serbia and Montenegro  ?eljko Joksimovi??& Ad-Hoc Orchestra     2\n",
      "168  2004                  Sweden                       Lena Philipsson     5\n",
      "158  2004                  Russia                       Julia Savicheva    11\n",
      "154  2004                 Ukraine                               Ruslana     1\n",
      "160  2004                  Greece                          Sakis Rouvas     3\n",
      "166  2004                  Turkey                                Athena     4\n",
      "167  2004                 Romania                                 Sanda    18\n",
      "161  2004                 Iceland                                 J?nsi    19\n",
      "165  2004                  Cyprus                          Lisa Andreas     5\n",
      "147  2004                  Norway                     Knut Anders S?rum    24\n",
      "157  2004                 Belgium                                Xandee    22\n",
      "156  2004  Bosnia and Herzegovina                                  Deen     9\n",
      "162  2004                 Ireland                           Chris Doran    22\n",
      "153  2004                 Albania                        Anjeza Shahini     7\n",
      "150  2004                   Malta                      Julie and Ludwig    12\n",
      "151  2004             Netherlands                              Re-Union    20\n",
      "164  2004          United Kingdom                             James Fox    16\n",
      "155  2004                 Croatia                          Ivan Mikuli?    12\n",
      "163  2004                  Poland                             Blue Caf?    17\n",
      "159  2004               Macedonia                          To?e Proeski    14\n",
      "152  2004                 Germany                                   Max     8\n",
      "146  2004                 Austria                             Tie Break    21\n",
      "148  2004                  France                       Jonatan Cerrada    15\n",
      "145  2004                   Spain                                 Ram?n    10\n",
      "     Year                 Country                             Artist  Rank\n",
      "210  2005                  Russia                 Natalia Podolskaya    15\n",
      "209  2005                  Greece                   Helena Paparizou     1\n",
      "202  2005   Serbia and Montenegro                            No Name     7\n",
      "204  2005                  Sweden                   Martin Stenmarck    19\n",
      "206  2005                 Ukraine                         GreenJolly    19\n",
      "203  2005                 Denmark                    Jakob Sveistrup     9\n",
      "213  2005                  Latvia                  Walters and Kazha     5\n",
      "208  2005                 Croatia  Boris Novkovi??feat.?Lado Members    11\n",
      "211  2005  Bosnia and Herzegovina                           Feminnem    14\n",
      "196  2005                  Turkey                           G�lseren    13\n",
      "195  2005                  Norway                            Wig Wam     9\n",
      "207  2005                 Germany                             Gracia    24\n",
      "197  2005                 Moldova                       Zdob ?i Zdub     6\n",
      "201  2005                  Israel                       Shiri Maimon     4\n",
      "212  2005             Switzerland                      Vanilla Ninja     8\n",
      "194  2005                 Romania         Lumini?a Anghel?and Sistem     3\n",
      "198  2005                 Albania                        Ledina ?elo    16\n",
      "199  2005                  Cyprus          Constantinos Christoforou    18\n",
      "193  2005                   Malta                             Chiara     2\n",
      "205  2005               Macedonia                       Martin Vu?i?    17\n",
      "214  2005                  France                              Ortal    23\n",
      "200  2005                   Spain                         Son de Sol    21\n",
      "191  2005                 Hungary                                NOX    12\n",
      "192  2005          United Kingdom                             Javine    22\n",
      "     Year                 Country                            Artist  Rank\n",
      "261  2006                  Sweden                            Carola     5\n",
      "249  2006                  Russia                        Dima Bilan     2\n",
      "257  2006                 Ukraine                        Tina Karol     7\n",
      "255  2006                  Greece                        Anna Vissi     9\n",
      "252  2006  Bosnia and Herzegovina                    Hari Mata Hari     3\n",
      "263  2006                 Armenia                             Andr?     8\n",
      "262  2006                  Turkey                       Sibel T�z�n    11\n",
      "248  2006                 Denmark                Sidsel Ben Semmane    18\n",
      "256  2006                 Finland                             Lordi     1\n",
      "259  2006                 Croatia                          Severina    12\n",
      "251  2006                 Romania                  Mihai Tr?istariu     4\n",
      "260  2006                 Ireland                     Brian Kennedy    10\n",
      "244  2006                  Norway            Christine Guldbrandsen    14\n",
      "253  2006               Lithuania                         LT United     6\n",
      "246  2006                   Malta                 Fabrizio Faniello    24\n",
      "258  2006                  France                 Virginie Pouchain    22\n",
      "247  2006                 Germany                   Texas Lightning    14\n",
      "250  2006               Macedonia                    Elena Risteska    12\n",
      "254  2006          United Kingdom                       Daz Sampson    19\n",
      "242  2006                  Israel                      Eddie Butler    23\n",
      "243  2006                  Latvia                Vocal Group Cosmos    17\n",
      "241  2006                 Moldova  Arsenium?feat.?Natalia Gordienko    20\n",
      "245  2006                   Spain                       Las Ketchup    21\n",
      "240  2006             Switzerland                           six4one    16\n",
      "     Year                 Country                                Artist  Rank\n",
      "331  2007                  Serbia                      Marija ?erifovi?     1\n",
      "332  2007                 Ukraine                       Verka Serduchka     2\n",
      "337  2007                 Armenia                                 Hayko     8\n",
      "329  2007                  Russia                               Serebro     3\n",
      "326  2007                  Sweden                               The Ark    18\n",
      "324  2007                  Greece                                Sarbel     7\n",
      "336  2007                  Turkey                          Kenan Do?ulu     4\n",
      "325  2007                 Georgia                                 Sopho    12\n",
      "338  2007                 Moldova                         Natalia Barbu    10\n",
      "334  2007                 Romania                             Todomondo    13\n",
      "315  2007  Bosnia and Herzegovina                                 Maria    11\n",
      "335  2007                Bulgaria  Elitsa Todorova?and?Stoyan Yankoulov     5\n",
      "328  2007                  Latvia                          Bonaparti.lv    16\n",
      "330  2007                 Germany                          Roger Cicero    19\n",
      "322  2007                 Hungary                           Magdi R?zsa     9\n",
      "319  2007                 Finland                                 Hanna    17\n",
      "333  2007          United Kingdom                                Scooch    23\n",
      "327  2007                  France                    Les Fatals Picards    22\n",
      "317  2007                 Belarus                         Dmitry Koldun     6\n",
      "323  2007               Lithuania                                  4Fun    21\n",
      "321  2007                Slovenia                          Alenka Gotar    15\n",
      "320  2007               Macedonia                              Karolina    14\n",
      "316  2007                   Spain                                D'NASH    20\n",
      "318  2007                 Ireland                               Dervish    24\n",
      "     Year                 Country                             Artist  Rank\n",
      "399  2008                  Serbia  Jelena Toma?evi??feat.?Bora Dugi?     6\n",
      "400  2008                  Russia                         Dima Bilan     1\n",
      "397  2008                  Greece                           Kalomira     3\n",
      "391  2008                  Sweden                 Charlotte Perrelli    18\n",
      "394  2008                 Ukraine                          Ani Lorak     2\n",
      "396  2008              Azerbaijan                    Elnur?and?Samir     8\n",
      "401  2008                  Norway              Maria Haukaas Storeng     5\n",
      "381  2008                 Armenia                            Sirusho     4\n",
      "392  2008                 Denmark                       Simon Mathew    15\n",
      "393  2008                 Georgia                    Diana Gurtskaya    11\n",
      "387  2008                 Iceland                           Euroband    14\n",
      "382  2008  Bosnia and Herzegovina                               Laka    10\n",
      "388  2008                  Turkey                       Mor ve ?tesi     7\n",
      "390  2008                  Latvia                 Pirates of the Sea    12\n",
      "398  2008                   Spain              Rodolfo Chikilicuatre    16\n",
      "395  2008                  France                  S?bastien Tellier    19\n",
      "377  2008                 Romania                      Nico?and?Vlad    20\n",
      "389  2008                Portugal                    V?nia Fernandes    13\n",
      "383  2008                  Israel                        Boaz Ma'uda     9\n",
      "379  2008                 Albania                          Olta Boka    17\n",
      "384  2008                 Finland                        Ter?sbetoni    22\n",
      "385  2008                 Croatia        Kraljevi Ulice?and?75 cents    21\n",
      "386  2008                  Poland                           Isis Gee    24\n",
      "380  2008                 Germany                          No Angels    23\n",
      "378  2008          United Kingdom                       Andy Abraham    25\n",
      "     Year                 Country                      Artist  Rank\n",
      "458  2009                  Norway             Alexander Rybak     1\n",
      "449  2009              Azerbaijan          AySel?andArash[73]     3\n",
      "448  2009                  Russia        Anastasiya Prikhodko    11\n",
      "459  2009                 Ukraine             Svetlana Loboda    12\n",
      "456  2009                  Turkey                      Hadise     4\n",
      "446  2009                  Greece                Sakis Rouvas     7\n",
      "442  2009                  Sweden               Malena Ernman    21\n",
      "460  2009                 Romania                       Elena    19\n",
      "457  2009                 Albania                  Kejsi Tola    17\n",
      "447  2009                 Armenia              Inga and Anush    10\n",
      "462  2009                 Finland              Waldo's People    25\n",
      "451  2009                 Moldova               Nelly Ciobanu    14\n",
      "450  2009  Bosnia and Herzegovina                      Regina     9\n",
      "454  2009                 Denmark                Niels Brinck    13\n",
      "455  2009                 Germany  Alex?SwingsOscarSings![74]    20\n",
      "453  2009                 Estonia              Urban Symphony     6\n",
      "445  2009                 Iceland                 Yohanna[68]     2\n",
      "461  2009          United Kingdom                   Jade Ewen     5\n",
      "463  2009                   Spain              Soraya Arnelas    24\n",
      "452  2009                   Malta                      Chiara    22\n",
      "439  2009               Lithuania                   Sasha Son    23\n",
      "441  2009                  France               Patricia Kaas     8\n",
      "440  2009                  Israel           Noa?and?Mira Awad    16\n",
      "443  2009                 Croatia     Igor Cukrovfeat.?Andrea    18\n",
      "444  2009                Portugal                 Flor-de-Lis    15\n",
      "     Year                 Country                                     Artist  \\\n",
      "519  2010                 Germany                             Lena[125][126]   \n",
      "522  2010                 Denmark             Chan?e?and?N'evergreen[93][94]   \n",
      "518  2010                 Armenia                          Eva Rivas[89][90]   \n",
      "517  2010                  Russia          Peter Nalitch and Friends[57][58]   \n",
      "505  2010                  Serbia                    Milan Stankovi?[67][68]   \n",
      "511  2010                  Turkey                                 maNga[117]   \n",
      "510  2010                 Georgia                 Sofia Nizharadze[115][116]   \n",
      "508  2010                  Greece        Giorgos Alkaios?and?Friends[77][78]   \n",
      "514  2010                 Ukraine                          Alyosha[100][101]   \n",
      "516  2010                 Romania             Paula Seling?and?Ovi[104][105]   \n",
      "498  2010              Azerbaijan                             Safura[98][99]   \n",
      "512  2010                 Albania                          Juliana Pasha[76]   \n",
      "501  2010                 Moldova    SunStroke Project?and?Olia Tira[55][56]   \n",
      "513  2010                 Iceland                         Hera Bj?rk[85][86]   \n",
      "503  2010  Bosnia and Herzegovina                         Vuka?in Braji?[69]   \n",
      "521  2010                  Israel                        Harel Skaat[91][92]   \n",
      "520  2010                Portugal                     Filipa Azevedo[79][80]   \n",
      "515  2010                  France                         Jessy Matador[124]   \n",
      "500  2010                  Norway              Didrik Solli-Tangen[120][121]   \n",
      "504  2010                 Belgium                           Tom Dice[72][73]   \n",
      "507  2010                 Ireland                   Niamh Kavanagh[108][109]   \n",
      "499  2010                   Spain                     Daniel Diges[118][119]   \n",
      "509  2010          United Kingdom                     Josh Dubovie[122][123]   \n",
      "506  2010                 Belarus              3+2?feat?Robert Wells[83][84]   \n",
      "502  2010                  Cyprus  Jon Lilygreen?and?The Islanders[111][112]   \n",
      "\n",
      "     Rank  \n",
      "519     1  \n",
      "522     4  \n",
      "518     7  \n",
      "517    11  \n",
      "505    13  \n",
      "511     2  \n",
      "510     9  \n",
      "508     8  \n",
      "514    10  \n",
      "516     3  \n",
      "498     5  \n",
      "512    16  \n",
      "501    22  \n",
      "513    19  \n",
      "503    17  \n",
      "521    14  \n",
      "520    18  \n",
      "515    12  \n",
      "500    20  \n",
      "504     6  \n",
      "507    23  \n",
      "499    15  \n",
      "509    25  \n",
      "506    24  \n",
      "502    21  \n",
      "     Year                 Country                            Artist  Rank\n",
      "567  2011                  Sweden                        Eric Saade     3\n",
      "570  2011                  Russia                   Alexey Vorobyov    16\n",
      "583  2011                 Ukraine                       Mika Newton     4\n",
      "579  2011              Azerbaijan                       Ell & Nikki     1\n",
      "569  2011                  Greece  Loukas Giorkas?feat.?Stereo Mike     7\n",
      "584  2011                  Serbia                              Nina    14\n",
      "572  2011                   Italy                  Raphael Gualazzi     2\n",
      "585  2011                 Georgia                           Eldrine     9\n",
      "578  2011                 Austria                     Nadine Beiler    18\n",
      "568  2011                 Estonia                      Getter Jaani    24\n",
      "576  2011                 Germany                              Lena    10\n",
      "563  2011                 Denmark                A Friend in London     5\n",
      "581  2011                 Iceland                  Sjonni's Friends    20\n",
      "577  2011                 Romania                          Hotel FM    17\n",
      "582  2011                   Spain                       Luc?a P?rez    23\n",
      "575  2011                 Moldova                      Zdob ?i Zdub    12\n",
      "580  2011                Slovenia                         Maja Keuc    13\n",
      "571  2011                  France                    Amaury Vassili    15\n",
      "561  2011                 Finland                    Paradise Oskar    21\n",
      "566  2011                 Ireland                           Jedward     8\n",
      "562  2011  Bosnia and Herzegovina                       Dino Merlin     6\n",
      "574  2011          United Kingdom                              Blue    11\n",
      "565  2011                 Hungary                         Kati Wolf    22\n",
      "573  2011             Switzerland                   Anna Rossinelli    25\n",
      "564  2011               Lithuania                   Evelina Sa?enko    19\n",
      "     Year                 Country                  Artist  Rank\n",
      "638  2012                  Sweden                  Loreen     1\n",
      "627  2012                  Russia   Buranovskiye Babushki     2\n",
      "645  2012                  Serbia       ?eljko Joksimovi?     3\n",
      "637  2012                  Greece  Eleftheria Eleftheriou    17\n",
      "639  2012                  Turkey              Can Bonomo     7\n",
      "634  2012              Azerbaijan         Sabina Babayeva     4\n",
      "629  2012                  Cyprus              Ivi Adamou    16\n",
      "646  2012                 Ukraine                 Gaitana    15\n",
      "641  2012                 Germany               Roman Lob     8\n",
      "635  2012                 Romania                Mandinga    12\n",
      "633  2012                  Norway                   Tooji    26\n",
      "636  2012                 Denmark            Soluna Samay    23\n",
      "631  2012                   Italy              Nina Zilli     9\n",
      "647  2012                 Moldova           Pasha Parfeny    11\n",
      "628  2012                 Iceland  Gr?ta Sal�me�and�J�nsi    20\n",
      "640  2012                   Spain           Pastora Soler    10\n",
      "642  2012                   Malta            Kurt Calleja    21\n",
      "644  2012                 Ireland                 Jedward    19\n",
      "626  2012  Bosnia and Herzegovina                Maya Sar    18\n",
      "624  2012                 Albania            Rona Nishliu     5\n",
      "632  2012                 Estonia             Ott Lepland     6\n",
      "643  2012               Macedonia                 Kaliopi    13\n",
      "622  2012          United Kingdom   Engelbert Humperdinck    25\n",
      "625  2012               Lithuania           Donny Montell    14\n",
      "630  2012                  France                  Anggun    22\n",
      "623  2012                 Hungary           Compact Disco    24\n",
      "     Year         Country                               Artist  Rank\n",
      "698  2013         Denmark                    Emmelie de Forest     1\n",
      "702  2013         Ukraine                       Zlata Ognevich     3\n",
      "700  2013      Azerbaijan                       Farid Mammadov     2\n",
      "701  2013          Greece  Koza Mostra�feat.�Agathon Iakovidis     6\n",
      "690  2013          Russia                        Dina Garipova     5\n",
      "696  2013          Sweden                     Robin Stjernberg    14\n",
      "704  2013          Norway                      Margaret Berger     4\n",
      "703  2013           Italy                        Marco Mengoni     7\n",
      "705  2013         Georgia  Nodi Tatishvili�and�Sophie Gelovani    15\n",
      "694  2013         Romania                                Cezar    13\n",
      "693  2013     Netherlands                                Anouk     9\n",
      "691  2013         Germany                              Cascada    21\n",
      "699  2013         Iceland                          Eythor Ingi    17\n",
      "692  2013         Armenia                              Dorians    18\n",
      "689  2013           Malta                             Gianluca     8\n",
      "686  2013         Belgium                    Roberto Bellarosa    12\n",
      "695  2013  United Kingdom                         Bonnie Tyler    19\n",
      "697  2013         Hungary                              ByeAlex    10\n",
      "706  2013         Ireland                           Ryan Dolan    26\n",
      "687  2013         Estonia                               Birgit    20\n",
      "682  2013       Lithuania                      Andrius Pojavis    22\n",
      "684  2013         Finland                     Krista Siegfrids    24\n",
      "683  2013         Moldova                          Aliona Moon    11\n",
      "688  2013         Belarus                      Alyona Lanskaya    16\n",
      "681  2013          France                   Amandine Bourgeois    23\n",
      "685  2013           Spain                                 ESDM    25\n",
      "     Year         Country                          Artist  Rank\n",
      "744  2014         Armenia                        Aram MP3     4\n",
      "750  2014          Sweden                   Sanna Nielsen     3\n",
      "752  2014          Russia              Tolmachevy Sisters     7\n",
      "760  2014         Denmark                           Basim     9\n",
      "738  2014         Ukraine                Mariya Yaremchuk     6\n",
      "753  2014           Italy                            Emma    21\n",
      "761  2014     Netherlands              The Common Linnets     2\n",
      "758  2014         Hungary          Andr�s K�llay-Saunders     5\n",
      "755  2014         Finland                      Softengine    11\n",
      "740  2014      Azerbaijan                 Dilara Kazimova    22\n",
      "748  2014         Austria                  Conchita Wurst     1\n",
      "747  2014          Greece  Freaky Fortune�feat.�RiskyKidd    20\n",
      "742  2014          Norway                      Carl Espen     8\n",
      "763  2014  United Kingdom                           Molly    17\n",
      "756  2014           Spain                    Ruth Lorenzo    10\n",
      "746  2014          Poland                  Donatan�&�Cleo    14\n",
      "759  2014           Malta                       Firelight    23\n",
      "743  2014         Romania              Paula Seling�&�Ovi    12\n",
      "757  2014     Switzerland                        Sebalter    13\n",
      "751  2014          France                       TWIN TWIN    26\n",
      "739  2014         Belarus                             Teo    16\n",
      "745  2014      Montenegro                 Sergej ?etkovi?    19\n",
      "741  2014         Iceland                       Pollap?nk    15\n",
      "749  2014         Germany                          Elaiza    18\n",
      "754  2014        Slovenia                   Tinkara Kova?    25\n",
      "762  2014      San Marino               Valentina Monetta    24\n",
      "     Year         Country                           Artist  Rank\n",
      "821  2015          Russia                  Polina Gagarina     2\n",
      "806  2015          Sweden                   M?ns Zelmerl?w     1\n",
      "820  2015      Azerbaijan                   Elnur Huseynov    12\n",
      "823  2015           Italy                          Il Volo     3\n",
      "819  2015         Georgia                    Nina Sublatti    11\n",
      "805  2015          Norway        M?rland�&�Debrah Scarlett     8\n",
      "822  2015         Albania                     Elhaida Dani    17\n",
      "802  2015         Armenia                        Genealogy    16\n",
      "809  2015         Belgium                      Lo?c Nottet     4\n",
      "815  2015          Latvia                          Aminata     6\n",
      "811  2015          Greece             Maria Elena Kyriakou    19\n",
      "808  2015       Australia                    Guy Sebastian     5\n",
      "816  2015         Romania                           Voltaj    15\n",
      "817  2015           Spain                           Edurne    21\n",
      "813  2015         Germany                       Ann Sophie    27\n",
      "818  2015         Hungary                           Boggie    20\n",
      "799  2015          Israel                      Nadav Guedj     9\n",
      "800  2015         Estonia          Elina Born�&�Stig R?sta     7\n",
      "803  2015       Lithuania  Monika Linkyt?�&�Vaidas Baumila    18\n",
      "810  2015         Austria                    The Makemakes    26\n",
      "807  2015          Cyprus                 John Karayiannis    22\n",
      "801  2015  United Kingdom                   Electro Velvet    24\n",
      "812  2015      Montenegro                             Knez    13\n",
      "804  2015          Serbia                  Bojana Stamenov    10\n",
      "814  2015          Poland                 Monika Kuszy?ska    23\n",
      "797  2015        Slovenia                          Maraaya    14\n",
      "798  2015          France                      Lisa Angell    25\n"
     ]
    }
   ],
   "source": [
    "for y in range(1998,2016):\n",
    "    print data[(data['Final']==1) & (data['Year']==y)].sort_values(['Predicted points'],ascending=False)[['Year','Country','Artist','Rank']]"
   ]
  },
  {
   "cell_type": "code",
   "execution_count": 151,
   "metadata": {
    "collapsed": false
   },
   "outputs": [],
   "source": [
    "data['Top 10'] = 0\n",
    "data.loc[data['Rank']<11,'Top 10'] = 1\n",
    "target_top10 = data['Top 10'].as_matrix()"
   ]
  },
  {
   "cell_type": "code",
   "execution_count": 152,
   "metadata": {
    "collapsed": false
   },
   "outputs": [
    {
     "name": "stdout",
     "output_type": "stream",
     "text": [
      "{'max_features': 11, 'n_estimators': 1000, 'learning_rate': 0.01, 'max_depth': 3, 'min_samples_leaf': 3}\n",
      "0.651699029126\n"
     ]
    }
   ],
   "source": [
    "from sklearn.ensemble import GradientBoostingClassifier\n",
    "param_grid = {'learning_rate':[0.01],\n",
    "              'max_depth':[1,2,3,4,5,6],\n",
    "              'min_samples_leaf':[1,3,5,7],\n",
    "              'max_features':[9,11,13,15,17,19,21,23],\n",
    "              'n_estimators':[1000]\n",
    "             }\n",
    "est = GradientBoostingClassifier(n_estimators=1000)\n",
    "gs_cv = GridSearchCV(est,param_grid,n_jobs=4).fit(total,np.ravel(target_top10))\n",
    "print gs_cv.best_params_\n",
    "print gs_cv.best_score_"
   ]
  },
  {
   "cell_type": "code",
   "execution_count": 154,
   "metadata": {
    "collapsed": false
   },
   "outputs": [
    {
     "name": "stdout",
     "output_type": "stream",
     "text": [
      "      Iter       Train Loss   Remaining Time \n",
      "         1           1.3793            0.75s\n",
      "         2           1.3785            0.66s\n",
      "         3           1.3777            0.60s\n",
      "         4           1.3761            0.59s\n",
      "         5           1.3751            0.58s\n",
      "         6           1.3740            0.57s\n",
      "         7           1.3732            0.56s\n",
      "         8           1.3726            0.55s\n",
      "         9           1.3714            0.55s\n",
      "        10           1.3704            0.55s\n",
      "        20           1.3609            0.54s\n",
      "        30           1.3546            0.52s\n",
      "        40           1.3475            0.50s\n",
      "        50           1.3397            0.49s\n",
      "        60           1.3329            0.48s\n",
      "        70           1.3265            0.46s\n",
      "        80           1.3210            0.46s\n",
      "        90           1.3153            0.46s\n",
      "       100           1.3100            0.45s\n",
      "       200           1.2571            0.39s\n",
      "       300           1.2193            0.33s\n",
      "       400           1.1879            0.28s\n",
      "       500           1.1625            0.23s\n",
      "       600           1.1403            0.18s\n",
      "       700           1.1197            0.14s\n",
      "       800           1.1014            0.09s\n",
      "       900           1.0845            0.04s\n",
      "      1000           1.0698            0.00s\n"
     ]
    }
   ],
   "source": [
    "top10_model = GradientBoostingClassifier(n_estimators=1000,learning_rate=0.01,max_depth=3,max_features=11,min_samples_leaf=3,verbose=True)\n",
    "top10_model = top10_model.fit(total,np.ravel(target_top10))"
   ]
  },
  {
   "cell_type": "code",
   "execution_count": 172,
   "metadata": {
    "collapsed": false
   },
   "outputs": [
    {
     "name": "stdout",
     "output_type": "stream",
     "text": [
      "[('Azerbaijan', 0.87548290642479787), ('Armenia', 0.85547767429510124), ('Russia', 0.79324956592822671), ('Bosnia and Herzegovina', 0.78027954718215276), ('Malta', 0.76424189445676405), ('Greece', 0.61464761221286746), ('Estonia', 0.534732488593471), ('Iceland', 0.47090568984037556), ('Cyprus', 0.46544433241862732), ('Netherlands', 0.43224972455326832)]\n"
     ]
    }
   ],
   "source": [
    "predictions_top10 = top10_model.predict_proba(test_total_semi1)\n",
    "print(sorted(zip(test_data_sf1['Country'],predictions_top10[:,1]),key = lambda x: x[1], reverse=True)[0:10])"
   ]
  },
  {
   "cell_type": "code",
   "execution_count": 19,
   "metadata": {
    "collapsed": true
   },
   "outputs": [],
   "source": [
    "predictions_points_model = {'Russia':336,'Ukraine':271,'Armenia':257,'Sweden':223,'Malta':222,'Azerbaijan':215,'France':214,'Serbia':198,'Latvia':194,'Australia':190,'Spain':186,'United Kingdom':182,'Georgia':173,'Italy':167,'Cyprus':160,'Bulgaria':154,'Netherlands':151,'Lithuania':147,'Poland':136,'Belgium':125,'Germany':118,'Croatia':114,'Israel':112,'Austria':110,'Hungary':92,'Czech Republic':41}"
   ]
  },
  {
   "cell_type": "code",
   "execution_count": 20,
   "metadata": {
    "collapsed": true
   },
   "outputs": [],
   "source": [
    "actual_points = {'Russia':491,'Ukraine':534,'Armenia':249,'Sweden':261,'Malta':153,'Azerbaijan':117,'France':257,'Serbia':115,'Latvia':132,'Australia':511,'Spain':77,'United Kingdom':62,'Georgia':104,'Italy':124,'Cyprus':96,'Bulgaria':307,'Netherlands':153,'Lithuania':200,'Poland':229,'Belgium':181,'Germany':11,'Croatia':73,'Israel':135,'Austria':151,'Hungary':108,'Czech Republic':41}"
   ]
  },
  {
   "cell_type": "code",
   "execution_count": 21,
   "metadata": {
    "collapsed": true
   },
   "outputs": [],
   "source": [
    "rank_predictions_points = {'Russia':1,'Ukraine':2,'Armenia':3,'Sweden':4,'Malta':5,'Azerbaijan':6,'France':7,'Serbia':8,'Latvia':9,'Australia':10,'Spain':11,'United Kingdom':12,'Georgia':13,'Italy':14,'Cyprus':15,'Bulgaria':16,'Netherlands':17,'Lithuania':18,'Poland':19,'Belgium':20,'Germany':21,'Croatia':22,'Israel':23,'Austria':24,'Hungary':25,'Czech Republic':26}"
   ]
  },
  {
   "cell_type": "code",
   "execution_count": 22,
   "metadata": {
    "collapsed": true
   },
   "outputs": [],
   "source": [
    "actual_rank = {'Russia':3,'Ukraine':1,'Armenia':7,'Sweden':5,'Malta':12,'Azerbaijan':17,'France':6,'Serbia':18,'Latvia':15,'Australia':2,'Spain':22,'United Kingdom':24,'Georgia':20,'Italy':16,'Cyprus':21,'Bulgaria':4,'Netherlands':11,'Lithuania':9,'Poland':8,'Belgium':10,'Germany':26,'Croatia':23,'Israel':14,'Austria':13,'Hungary':19,'Czech Republic':25}"
   ]
  },
  {
   "cell_type": "code",
   "execution_count": 23,
   "metadata": {
    "collapsed": true
   },
   "outputs": [],
   "source": [
    "rank_predictions_rank = {'Russia':1,'Ukraine':3,'Armenia':4,'Sweden':5,'Malta':7,'Azerbaijan':2,'France':23,'Serbia':6,'Latvia':8,'Australia':10,'Spain':16,'United Kingdom':17,'Georgia':14,'Italy':9,'Cyprus':20,'Bulgaria':15,'Netherlands':12,'Lithuania':18,'Poland':11,'Belgium':19,'Germany':24,'Croatia':13,'Israel':21,'Austria':25,'Hungary':22,'Czech Republic':26}"
   ]
  },
  {
   "cell_type": "code",
   "execution_count": 24,
   "metadata": {
    "collapsed": true
   },
   "outputs": [],
   "source": [
    "bookmakers_rank = {'Russia':1,'Ukraine':3,'Armenia':7,'Sweden':4,'Malta':6,'Azerbaijan':21,'France':5,'Serbia':20,'Latvia':13,'Australia':2,'Spain':10,'United Kingdom':8,'Georgia':22,'Italy':15,'Cyprus':16,'Bulgaria':9,'Netherlands':11,'Lithuania':19,'Poland':18,'Belgium':14,'Germany':25,'Croatia':24,'Israel':17,'Austria':12,'Hungary':23,'Czech Republic':26}"
   ]
  },
  {
   "cell_type": "code",
   "execution_count": 25,
   "metadata": {
    "collapsed": true
   },
   "outputs": [],
   "source": [
    "forecast_rank = {'Sweden':1,'Austria':2,'Ukraine':3,'Australia':4,'Russia':5,'Italy':6,'Serbia':7,'Azerbaijan':8,'Belgium':9,'Germany':10,'Armenia':11,'Netherlands':12,'Malta':13,'United Kingdom':14,'Latvia':15,'Hungary':16,'France':17,'Spain':18,'Israel':19,'Cyprus':20,'Lithuania':21,'Georgia':22,'Bulgaria':23,'Croatia':24,'Czech Republic':25,'Poland':26}"
   ]
  },
  {
   "cell_type": "code",
   "execution_count": 22,
   "metadata": {
    "collapsed": false,
    "scrolled": false
   },
   "outputs": [
    {
     "name": "stdout",
     "output_type": "stream",
     "text": [
      "Italy 167 124 1849\n",
      "Czech Republic 41 41 0\n",
      "Lithuania 147 200 2809\n",
      "Malta 222 153 4761\n",
      "France 214 257 1849\n",
      "Georgia 173 104 4761\n",
      "Israel 112 135 529\n",
      "Australia 190 511 103041\n",
      "Germany 118 11 11449\n",
      "Armenia 257 249 64\n",
      "Belgium 125 181 3136\n",
      "Spain 186 77 11881\n",
      "Ukraine 271 534 69169\n",
      "Netherlands 151 153 4\n",
      "Poland 136 229 8649\n",
      "Sweden 223 261 1444\n",
      "Latvia 194 132 3844\n",
      "Croatia 114 73 1681\n",
      "Russia 336 491 24025\n",
      "Bulgaria 154 307 23409\n",
      "Serbia 198 115 6889\n",
      "Azerbaijan 215 117 9604\n",
      "United Kingdom 182 62 14400\n",
      "Austria 110 151 1681\n",
      "Hungary 92 108 256\n",
      "Cyprus 160 96 4096\n",
      "12126.1538462\n",
      "11672.5426873\n",
      "4488\n",
      "4872\n"
     ]
    }
   ],
   "source": [
    "mse = 0\n",
    "predicted_total = 0\n",
    "actual_total = 0\n",
    "mse_norm = 0\n",
    "#print list(predictions_points_model.keys)\n",
    "for k in predictions_points_model:\n",
    "    predicted_total += predictions_points_model[k]\n",
    "    actual_total += actual_points[k]\n",
    "    print k, predictions_points_model[k], actual_points[k], (predictions_points_model[k] - actual_points[k])**2\n",
    "    mse += (predictions_points_model[k] - actual_points[k])**2\n",
    "    mse_norm += (predictions_points_model[k]*float(4872)/4488 - actual_points[k])**2\n",
    "print mse/26.0\n",
    "print mse_norm/26.0\n",
    "print predicted_total\n",
    "print actual_total"
   ]
  },
  {
   "cell_type": "code",
   "execution_count": 21,
   "metadata": {
    "collapsed": false
   },
   "outputs": [
    {
     "name": "stdout",
     "output_type": "stream",
     "text": [
      "15.9056778437\n",
      "16.718445451\n",
      "9.36626145491\n",
      "16.3629646631\n",
      "Bulgaria\n"
     ]
    }
   ],
   "source": [
    "rank_error_points = 0\n",
    "rank_error_rank = 0\n",
    "rank_error_bookmakers = 0\n",
    "rank_error_forecast = 0\n",
    "max_error = 0\n",
    "worst_country = \"\"\n",
    "for k in rank_predictions_points:\n",
    "    log_points = math.log(rank_predictions_points[k])\n",
    "    log_actual = math.log(actual_rank[k])\n",
    "    log_rank = math.log(rank_predictions_rank[k])\n",
    "    log_bookmakers = math.log(bookmakers_rank[k])\n",
    "    log_forecast = math.log(forecast_rank[k])\n",
    "    rank_error_points += abs(log_points - log_actual)\n",
    "    rank_error_rank += abs(log_rank - log_actual)\n",
    "    rank_error_bookmakers += abs(log_bookmakers - log_actual)\n",
    "    rank_error_forecast += abs(log_forecast - log_actual)\n",
    "    total_error = abs(log_points - log_actual) + abs(log_rank - log_actual) + abs(log_bookmakers - log_actual) + abs(log_forecast - log_actual)\n",
    "    if(total_error > max_error):\n",
    "        max_error = total_error\n",
    "        worst_country = k\n",
    "        \n",
    "print rank_error_points\n",
    "print rank_error_rank\n",
    "print rank_error_bookmakers\n",
    "print rank_error_forecast\n",
    "print worst_country\n",
    "    "
   ]
  },
  {
   "cell_type": "code",
   "execution_count": 23,
   "metadata": {
    "collapsed": false
   },
   "outputs": [
    {
     "name": "stdout",
     "output_type": "stream",
     "text": [
      "864\n",
      "1536\n"
     ]
    }
   ],
   "source": [
    "print predictions_points_model['Ukraine'] + predictions_points_model['Russia'] + predictions_points_model['Armenia']\n",
    "print actual_points['Australia'] + actual_points['Ukraine'] + actual_points['Russia']"
   ]
  },
  {
   "cell_type": "code",
   "execution_count": 34,
   "metadata": {
    "collapsed": false
   },
   "outputs": [
    {
     "name": "stdout",
     "output_type": "stream",
     "text": [
      "KendalltauResult(correlation=0.34769230769230774, pvalue=0.012749345209398064)\n",
      "KendalltauResult(correlation=1.0000000000000002, pvalue=7.8640679715061406e-13)\n",
      "KendalltauResult(correlation=0.32923076923076927, pvalue=0.018351636110902753)\n",
      "KendalltauResult(correlation=0.58153846153846167, pvalue=3.1019056463529269e-05)\n",
      "KendalltauResult(correlation=0.27384615384615391, pvalue=0.049797658950308764)\n"
     ]
    }
   ],
   "source": [
    "ranking_points = np.zeros(26)\n",
    "ranking_actual = np.zeros(26)\n",
    "ranking_ranking = np.zeros(26)\n",
    "ranking_bookmakers = np.zeros(26)\n",
    "ranking_forecast = np.zeros(26)\n",
    "i = 0\n",
    "for k in rank_predictions_points:\n",
    "    ranking_points[i] = rank_predictions_points[k]\n",
    "    ranking_actual[i] = actual_rank[k]\n",
    "    ranking_ranking[i] = rank_predictions_rank[k]\n",
    "    ranking_bookmakers[i] = bookmakers_rank[k]\n",
    "    ranking_forecast[i] = forecast_rank[k]\n",
    "    i+=1\n",
    "    \n",
    "from scipy import stats\n",
    "print stats.kendalltau(ranking_points,ranking_actual)\n",
    "print stats.kendalltau(ranking_actual,ranking_actual)\n",
    "print stats.kendalltau(ranking_ranking,ranking_actual)\n",
    "print stats.kendalltau(ranking_bookmakers,ranking_actual)\n",
    "print stats.kendalltau(ranking_forecast,ranking_actual)"
   ]
  },
  {
   "cell_type": "code",
   "execution_count": null,
   "metadata": {
    "collapsed": true
   },
   "outputs": [],
   "source": []
  }
 ],
 "metadata": {
  "kernelspec": {
   "display_name": "Python 2",
   "language": "python",
   "name": "python2"
  },
  "language_info": {
   "codemirror_mode": {
    "name": "ipython",
    "version": 2
   },
   "file_extension": ".py",
   "mimetype": "text/x-python",
   "name": "python",
   "nbconvert_exporter": "python",
   "pygments_lexer": "ipython2",
   "version": "2.7.11"
  }
 },
 "nbformat": 4,
 "nbformat_minor": 0
}
